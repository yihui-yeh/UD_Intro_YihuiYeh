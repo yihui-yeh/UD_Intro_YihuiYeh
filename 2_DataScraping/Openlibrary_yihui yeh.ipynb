{
 "cells": [
  {
   "cell_type": "code",
   "execution_count": 1,
   "id": "004b0012",
   "metadata": {},
   "outputs": [],
   "source": [
    "# Import Selenium and its sub libraries\n",
    "import selenium \n",
    "from selenium import webdriver\n",
    "from selenium.webdriver.common.by import By\n",
    "from selenium.webdriver.common.keys import Keys\n",
    "from selenium.webdriver.support.ui import Select\n",
    "from selenium.webdriver.support.ui import WebDriverWait\n",
    "from selenium.webdriver.support import expected_conditions as EC\n",
    "from time import sleep\n",
    "import re"
   ]
  },
  {
   "cell_type": "code",
   "execution_count": 2,
   "id": "83a910d3",
   "metadata": {},
   "outputs": [],
   "source": [
    "url=\"https://openlibrary.org/\""
   ]
  },
  {
   "cell_type": "code",
   "execution_count": 3,
   "id": "dad3b73c",
   "metadata": {},
   "outputs": [],
   "source": [
    "#Create lists\n",
    "books_list = []\n",
    "author_list=[]\n",
    "link_list=[]\n",
    "pdf_list=[]"
   ]
  },
  {
   "cell_type": "code",
   "execution_count": 10,
   "id": "a6a13eb1",
   "metadata": {},
   "outputs": [],
   "source": [
    "def extract_page_data(driver):\n",
    "    #Grab all books\n",
    "    books=driver.find_elements(\"class name\", \"searchResultItem\")\n",
    "    #print(len(books))\n",
    "\n",
    "    #Create loop to itterate on the list\n",
    "    for b in range(len(books)):\n",
    "        try:          \n",
    "            #Extracting title\n",
    "            title = books[b].find_element(\"class name\",\"booktitle\").text\n",
    "            print(title)\n",
    "        \n",
    "            #Extraction of authors\n",
    "            authors=books[b].find_element(\"class name\",\"bookauthor\").text\n",
    "            #print(authors)\n",
    "        \n",
    "            #Extraction of link\n",
    "            link = books[b].find_element(\"link text\",title).get_attribute('href')\n",
    "            #print(link)\n",
    "        \n",
    "            #Add item to the respective lists\n",
    "            books_list.append(title)\n",
    "            author_list.append(authors)\n",
    "            link_list.append(link)\n",
    "            sleep(2)  \n",
    "        \n",
    "        except:\n",
    "            pass\n",
    "        \n",
    "        #Not all items have a pdf version\n",
    "        try:\n",
    "            #Find the pdf link\n",
    "            pdf= books[b].find_element(\"xpath\",\"//*[@id='searchResults']/ul/li[2]/div[2]/div[1]/div/a[1]\").get_attribute('href')\n",
    "            \n",
    "            #Add item to the existing list\n",
    "            pdf_list.append(pdf)\n",
    "            \n",
    "        except:\n",
    "            pdf_list.append(\"NONE\")\n",
    "            continue\n"
   ]
  },
  {
   "cell_type": "code",
   "execution_count": 5,
   "id": "6d64d079",
   "metadata": {},
   "outputs": [
    {
     "name": "stdout",
     "output_type": "stream",
     "text": [
      "Utopia\n",
      "A modern Utopia\n",
      "Utopia\n",
      "Utopia\n",
      "Utopia\n",
      "Darcy's utopia\n",
      "The coming race, or, The new Utopia: Leila\n",
      "Utopia (Illustriert)\n",
      "Combates de este tiempo edicion textos y discursos\n",
      "Utopia\n",
      "Utopia: The Influential Classic\n",
      "Le Travail, Quelles Valeurs: Idees recues et propositions\n",
      "Utopia Birds: Coloring Book for Kids\n",
      "Utopia Cars and Buses: Coloring Book for Kids\n",
      "Utopia Welcome to Space Edition Fun Coloring Activity Book for Adults and Kids\n",
      "Utopia Insects: Coloring Book for Kids\n",
      "I Can't Talk Right Now I'm Doing Hot Girl Shift: Sassy Coloring Book for Adults by Lady Utopia\n",
      "Wir sind Utopia.\n",
      "Utopia: a novel\n",
      "Utopia\n"
     ]
    }
   ],
   "source": [
    "driver = webdriver.Chrome()\n",
    "driver.get(url)\n",
    "\n",
    "#Create lists to store the data\n",
    "books_list = []\n",
    "author_list=[]\n",
    "link_list=[]\n",
    "pdf_list=[]\n",
    "\n",
    "language_change = driver.find_element(\"xpath\",\"//*[@id='topNotice']/div/div/div/details\").click()\n",
    "english_version = driver.find_element(\"xpath\",\"//*[@id='topNotice']/div/div/div/details/div/ul/li[3]/a\").click()\n",
    "\n",
    "#Step 1: identify search box\n",
    "search_query = driver.find_element(\"name\",\"q\")\n",
    "\n",
    "#Step 2: search a topic\n",
    "search_query.send_keys('Utopia')\n",
    "search_query.send_keys(Keys.RETURN)\n",
    "#Delay\n",
    "sleep(1)\n",
    "\n",
    "\n",
    "\n",
    "#Step 3: Execute the function for each page\n",
    "for page_num in range(0,1):\n",
    "    \n",
    "    #Execute the function \n",
    "    extract_page_data(driver)\n",
    "        \n",
    "    #Locate the \"Next\" button on the webpage and click it to navigate to the next page\n",
    "    driver.find_element(\"xpath\", \"//*[@id='searchResults']/div[2]/a[10]\").click()\n",
    "\n",
    "#Close the webpage\n",
    "#driver.quit()"
   ]
  },
  {
   "cell_type": "code",
   "execution_count": 6,
   "id": "dfddef1f",
   "metadata": {},
   "outputs": [
    {
     "name": "stdout",
     "output_type": "stream",
     "text": [
      "['by Thomas More', 'by H. G. Wells', 'by Thomas More', 'by Thomas More, William Roper, and Ralph Robinson', 'by Thomas More', 'by Fay Weldon and Susannah Tyrrell', 'by Edward Bulwer Lytton, Baron Lytton', 'by Thomas Morus', 'by Utopia Libros', 'by Thomas More', 'by Thomas More', 'by Mouvement Utopia', 'by Utopia Media', 'by Utopia Media', 'by Utopia Media', 'by Utopia Media', 'by Lady Utopia', 'by Stefan Andres', 'by Lincoln Child', 'by Sir Thomas Moore']\n"
     ]
    }
   ],
   "source": [
    "print(author_list)"
   ]
  },
  {
   "cell_type": "code",
   "execution_count": 7,
   "id": "bdbdb445",
   "metadata": {},
   "outputs": [],
   "source": [
    "#Import the library\n",
    "import csv \n",
    "\n",
    "#combine the lists\n",
    "data=zip(books_list,author_list,link_list)\n",
    "\n",
    "#Write all the data to a csv\n",
    "with open('openlibrarycatalogue II.csv', 'w',newline='',encoding='utf-8') as csvfile: \n",
    "    writer = csv.writer(csvfile) \n",
    "    for row in data:\n",
    "        writer.writerow(row)\n",
    "        \n",
    "#Write only links to a csv\n",
    "with open('onlylinks II.csv', 'w',newline='') as csvfile: \n",
    "    writer = csv.writer(csvfile) \n",
    "    for link in link_list:\n",
    "        #print(row)\n",
    "        writer.writerow([link])"
   ]
  },
  {
   "cell_type": "code",
   "execution_count": 13,
   "id": "7f40d336",
   "metadata": {},
   "outputs": [
    {
     "name": "stdout",
     "output_type": "stream",
     "text": [
      "https://archive.org/download/modernutopi00well/modernutopi00well.pdf\n",
      "Downloaded file: 1\n",
      "https://archive.org/download/utopia00more_2/utopia00more_2.pdf\n",
      "Downloaded file: 2\n",
      "https://archive.org/download/comingraceornewu00lytt/comingraceornewu00lytt.pdf\n",
      "Downloaded file: 3\n"
     ]
    }
   ],
   "source": [
    "import requests\n",
    "\n",
    "# Initialize i outside the loop\n",
    "i = 0\n",
    "\n",
    "# Read the produced CSV and iterate through the list\n",
    "with open(\"onlylinks II.csv\", 'r', encoding='utf-8') as file:\n",
    "    csvreader = csv.reader(file)\n",
    "    \n",
    "    for url in csvreader:\n",
    "        try:\n",
    "            # Open each link\n",
    "            driver = webdriver.Chrome()\n",
    "            driver.get(url[0])\n",
    "            sleep(2)\n",
    "            \n",
    "            # Click on the PDF button\n",
    "            find_pdf = driver.find_element(\"link text\", \"PDF\").get_attribute('href')\n",
    "            print(find_pdf)\n",
    "            \n",
    "            # Check if it's a PDF link and download it\n",
    "            if find_pdf.endswith('.pdf'):\n",
    "                i += 1\n",
    "                print(\"Downloaded file:\", i)\n",
    "                response = requests.get(find_pdf)\n",
    "                \n",
    "                # Replace (title) with an appropriate title for your PDF files\n",
    "                pdf_title = \"title\"\n",
    "                \n",
    "                pdf = open(f\"{pdf_title}_{i}.pdf\", 'wb')\n",
    "                pdf.write(response.content)\n",
    "                pdf.close()\n",
    "        \n",
    "        except:\n",
    "            pass\n",
    "        \n",
    "        finally:\n",
    "            driver.quit()\n"
   ]
  },
  {
   "cell_type": "code",
   "execution_count": null,
   "id": "54a22950",
   "metadata": {},
   "outputs": [],
   "source": []
  }
 ],
 "metadata": {
  "kernelspec": {
   "display_name": "Python 3 (ipykernel)",
   "language": "python",
   "name": "python3"
  },
  "language_info": {
   "codemirror_mode": {
    "name": "ipython",
    "version": 3
   },
   "file_extension": ".py",
   "mimetype": "text/x-python",
   "name": "python",
   "nbconvert_exporter": "python",
   "pygments_lexer": "ipython3",
   "version": "3.8.18"
  }
 },
 "nbformat": 4,
 "nbformat_minor": 5
}
