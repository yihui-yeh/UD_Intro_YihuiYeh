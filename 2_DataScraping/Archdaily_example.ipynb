{
 "cells": [
  {
   "cell_type": "code",
   "execution_count": 1,
   "id": "de8fd8d6",
   "metadata": {},
   "outputs": [],
   "source": [
    "# Import Selenium and its sub libraries\n",
    "import selenium \n",
    "from selenium import webdriver\n",
    "from selenium.webdriver.common.by import By\n",
    "from selenium.webdriver.common.keys import Keys\n",
    "from selenium.webdriver.support.ui import Select\n",
    "from selenium.webdriver.support.ui import WebDriverWait\n",
    "from selenium.webdriver.support import expected_conditions as EC\n",
    "from time import sleep\n",
    "import re"
   ]
  },
  {
   "cell_type": "code",
   "execution_count": 2,
   "id": "e0731c73",
   "metadata": {},
   "outputs": [],
   "source": [
    "url=\"https://www.archdaily.com/\""
   ]
  },
  {
   "cell_type": "code",
   "execution_count": 3,
   "id": "aca20825",
   "metadata": {},
   "outputs": [],
   "source": [
    "def extract_page_data(driver):\n",
    "    #Get all projects\n",
    "    projects=driver.find_elements(\"class name\", \"gridview__item\")\n",
    "    sleep(10)\n",
    "\n",
    "    print(len(projects))\n",
    "\n",
    "    for p in range(len(projects)):\n",
    "          \n",
    "            #Extracting title\n",
    "            name = projects[p].find_element(\"class name\",\"gridview__entry-title\").text\n",
    "            print(name)\n",
    "        \n",
    "            #Extraction of link\n",
    "            link = projects[p].find_element(\"class name\",\"gridview__content\").get_attribute('href')\n",
    "            #print(link)\n",
    "        \n",
    "                  \n",
    "            #Add item to the respective lists\n",
    "            name_list.append(name)\n",
    "            link_list.append(link)\n",
    "            sleep(2)  "
   ]
  },
  {
   "cell_type": "code",
   "execution_count": 4,
   "id": "c71d6eca",
   "metadata": {},
   "outputs": [
    {
     "ename": "NoSuchWindowException",
     "evalue": "Message: no such window: target window already closed\nfrom unknown error: web view not found\n  (Session info: chrome=117.0.5938.150)\nStacktrace:\n\tGetHandleVerifier [0x00007FF6A9C77D12+55474]\n\t(No symbol) [0x00007FF6A9BE77C2]\n\t(No symbol) [0x00007FF6A9A9E0EB]\n\t(No symbol) [0x00007FF6A9A7E528]\n\t(No symbol) [0x00007FF6A9B03B77]\n\t(No symbol) [0x00007FF6A9B175BF]\n\t(No symbol) [0x00007FF6A9AFEF33]\n\t(No symbol) [0x00007FF6A9AD3D41]\n\t(No symbol) [0x00007FF6A9AD4F84]\n\tGetHandleVerifier [0x00007FF6A9FDB762+3609346]\n\tGetHandleVerifier [0x00007FF6AA031A80+3962400]\n\tGetHandleVerifier [0x00007FF6AA029F0F+3930799]\n\tGetHandleVerifier [0x00007FF6A9D13CA6+694342]\n\t(No symbol) [0x00007FF6A9BF2218]\n\t(No symbol) [0x00007FF6A9BEE484]\n\t(No symbol) [0x00007FF6A9BEE5B2]\n\t(No symbol) [0x00007FF6A9BDEE13]\n\tBaseThreadInitThunk [0x00007FFE0C55257D+29]\n\tRtlUserThreadStart [0x00007FFE0DF0AA68+40]\n",
     "output_type": "error",
     "traceback": [
      "\u001b[1;31m---------------------------------------------------------------------------\u001b[0m",
      "\u001b[1;31mNoSuchWindowException\u001b[0m                     Traceback (most recent call last)",
      "Cell \u001b[1;32mIn[4], line 32\u001b[0m\n\u001b[0;32m     29\u001b[0m sleep(\u001b[38;5;241m5\u001b[39m)\n\u001b[0;32m     31\u001b[0m \u001b[38;5;66;03m# Calculate new scroll height and compare with last scroll height\u001b[39;00m\n\u001b[1;32m---> 32\u001b[0m new_height \u001b[38;5;241m=\u001b[39m \u001b[43mdriver\u001b[49m\u001b[38;5;241;43m.\u001b[39;49m\u001b[43mexecute_script\u001b[49m\u001b[43m(\u001b[49m\u001b[38;5;124;43m\"\u001b[39;49m\u001b[38;5;124;43mreturn document.body.scrollHeight\u001b[39;49m\u001b[38;5;124;43m\"\u001b[39;49m\u001b[43m)\u001b[49m\n\u001b[0;32m     34\u001b[0m \u001b[38;5;28;01mif\u001b[39;00m new_height \u001b[38;5;241m==\u001b[39m last_height:\n\u001b[0;32m     35\u001b[0m     \u001b[38;5;28;01mbreak\u001b[39;00m\n",
      "File \u001b[1;32m~\\anaconda3\\envs\\BPro-Workshop\\lib\\site-packages\\selenium\\webdriver\\remote\\webdriver.py:404\u001b[0m, in \u001b[0;36mWebDriver.execute_script\u001b[1;34m(self, script, *args)\u001b[0m\n\u001b[0;32m    401\u001b[0m converted_args \u001b[38;5;241m=\u001b[39m \u001b[38;5;28mlist\u001b[39m(args)\n\u001b[0;32m    402\u001b[0m command \u001b[38;5;241m=\u001b[39m Command\u001b[38;5;241m.\u001b[39mW3C_EXECUTE_SCRIPT\n\u001b[1;32m--> 404\u001b[0m \u001b[38;5;28;01mreturn\u001b[39;00m \u001b[38;5;28;43mself\u001b[39;49m\u001b[38;5;241;43m.\u001b[39;49m\u001b[43mexecute\u001b[49m\u001b[43m(\u001b[49m\u001b[43mcommand\u001b[49m\u001b[43m,\u001b[49m\u001b[43m \u001b[49m\u001b[43m{\u001b[49m\u001b[38;5;124;43m\"\u001b[39;49m\u001b[38;5;124;43mscript\u001b[39;49m\u001b[38;5;124;43m\"\u001b[39;49m\u001b[43m:\u001b[49m\u001b[43m \u001b[49m\u001b[43mscript\u001b[49m\u001b[43m,\u001b[49m\u001b[43m \u001b[49m\u001b[38;5;124;43m\"\u001b[39;49m\u001b[38;5;124;43margs\u001b[39;49m\u001b[38;5;124;43m\"\u001b[39;49m\u001b[43m:\u001b[49m\u001b[43m \u001b[49m\u001b[43mconverted_args\u001b[49m\u001b[43m}\u001b[49m\u001b[43m)\u001b[49m[\u001b[38;5;124m\"\u001b[39m\u001b[38;5;124mvalue\u001b[39m\u001b[38;5;124m\"\u001b[39m]\n",
      "File \u001b[1;32m~\\anaconda3\\envs\\BPro-Workshop\\lib\\site-packages\\selenium\\webdriver\\remote\\webdriver.py:344\u001b[0m, in \u001b[0;36mWebDriver.execute\u001b[1;34m(self, driver_command, params)\u001b[0m\n\u001b[0;32m    342\u001b[0m response \u001b[38;5;241m=\u001b[39m \u001b[38;5;28mself\u001b[39m\u001b[38;5;241m.\u001b[39mcommand_executor\u001b[38;5;241m.\u001b[39mexecute(driver_command, params)\n\u001b[0;32m    343\u001b[0m \u001b[38;5;28;01mif\u001b[39;00m response:\n\u001b[1;32m--> 344\u001b[0m     \u001b[38;5;28;43mself\u001b[39;49m\u001b[38;5;241;43m.\u001b[39;49m\u001b[43merror_handler\u001b[49m\u001b[38;5;241;43m.\u001b[39;49m\u001b[43mcheck_response\u001b[49m\u001b[43m(\u001b[49m\u001b[43mresponse\u001b[49m\u001b[43m)\u001b[49m\n\u001b[0;32m    345\u001b[0m     response[\u001b[38;5;124m\"\u001b[39m\u001b[38;5;124mvalue\u001b[39m\u001b[38;5;124m\"\u001b[39m] \u001b[38;5;241m=\u001b[39m \u001b[38;5;28mself\u001b[39m\u001b[38;5;241m.\u001b[39m_unwrap_value(response\u001b[38;5;241m.\u001b[39mget(\u001b[38;5;124m\"\u001b[39m\u001b[38;5;124mvalue\u001b[39m\u001b[38;5;124m\"\u001b[39m, \u001b[38;5;28;01mNone\u001b[39;00m))\n\u001b[0;32m    346\u001b[0m     \u001b[38;5;28;01mreturn\u001b[39;00m response\n",
      "File \u001b[1;32m~\\anaconda3\\envs\\BPro-Workshop\\lib\\site-packages\\selenium\\webdriver\\remote\\errorhandler.py:229\u001b[0m, in \u001b[0;36mErrorHandler.check_response\u001b[1;34m(self, response)\u001b[0m\n\u001b[0;32m    227\u001b[0m         alert_text \u001b[38;5;241m=\u001b[39m value[\u001b[38;5;124m\"\u001b[39m\u001b[38;5;124malert\u001b[39m\u001b[38;5;124m\"\u001b[39m]\u001b[38;5;241m.\u001b[39mget(\u001b[38;5;124m\"\u001b[39m\u001b[38;5;124mtext\u001b[39m\u001b[38;5;124m\"\u001b[39m)\n\u001b[0;32m    228\u001b[0m     \u001b[38;5;28;01mraise\u001b[39;00m exception_class(message, screen, stacktrace, alert_text)  \u001b[38;5;66;03m# type: ignore[call-arg]  # mypy is not smart enough here\u001b[39;00m\n\u001b[1;32m--> 229\u001b[0m \u001b[38;5;28;01mraise\u001b[39;00m exception_class(message, screen, stacktrace)\n",
      "\u001b[1;31mNoSuchWindowException\u001b[0m: Message: no such window: target window already closed\nfrom unknown error: web view not found\n  (Session info: chrome=117.0.5938.150)\nStacktrace:\n\tGetHandleVerifier [0x00007FF6A9C77D12+55474]\n\t(No symbol) [0x00007FF6A9BE77C2]\n\t(No symbol) [0x00007FF6A9A9E0EB]\n\t(No symbol) [0x00007FF6A9A7E528]\n\t(No symbol) [0x00007FF6A9B03B77]\n\t(No symbol) [0x00007FF6A9B175BF]\n\t(No symbol) [0x00007FF6A9AFEF33]\n\t(No symbol) [0x00007FF6A9AD3D41]\n\t(No symbol) [0x00007FF6A9AD4F84]\n\tGetHandleVerifier [0x00007FF6A9FDB762+3609346]\n\tGetHandleVerifier [0x00007FF6AA031A80+3962400]\n\tGetHandleVerifier [0x00007FF6AA029F0F+3930799]\n\tGetHandleVerifier [0x00007FF6A9D13CA6+694342]\n\t(No symbol) [0x00007FF6A9BF2218]\n\t(No symbol) [0x00007FF6A9BEE484]\n\t(No symbol) [0x00007FF6A9BEE5B2]\n\t(No symbol) [0x00007FF6A9BDEE13]\n\tBaseThreadInitThunk [0x00007FFE0C55257D+29]\n\tRtlUserThreadStart [0x00007FFE0DF0AA68+40]\n"
     ]
    }
   ],
   "source": [
    "driver = webdriver.Chrome()\n",
    "driver.get(url)\n",
    "\n",
    "#Step 1: identify search box\n",
    "search_query = driver.find_element(\"xpath\",\"//input[@placeholder='Search ArchDaily']\")\n",
    "\n",
    "#Step 2: search a topic\n",
    "search_query.send_keys('MVRDV')\n",
    "search_query.send_keys(Keys.RETURN)\n",
    "#Delay\n",
    "sleep(5)\n",
    "\n",
    "#Select the project category\n",
    "driver.find_element(\"xpath\",\"/html/body/div[5]/div/div[1]/div[2]/nav/ul/li[2]/a\").click()\n",
    "sleep(6)\n",
    "\n",
    "#Create empty lists to store data\n",
    "name_list=[]\n",
    "link_list=[]\n",
    "\n",
    "#Archdaily does not load all the results at once. The results are loading while scrolling\n",
    "\n",
    "# Get scroll height\n",
    "last_height = driver.execute_script(\"return document.body.scrollHeight\")\n",
    "\n",
    "while True:\n",
    "    # Scroll down \n",
    "    driver.execute_script(\"window.scrollTo(0, document.body.scrollHeight);\")\n",
    "    sleep(5)\n",
    "\n",
    "    # Calculate new scroll height and compare with last scroll height\n",
    "    new_height = driver.execute_script(\"return document.body.scrollHeight\")\n",
    "    \n",
    "    if new_height == last_height:\n",
    "        break\n",
    "    last_height = new_height\n",
    "\n",
    "\n",
    "#Run the function to gather the data\n",
    "extract_page_data(driver)\n",
    "\n",
    "\n",
    "#Close the webpage\n",
    "driver.quit()"
   ]
  },
  {
   "cell_type": "code",
   "execution_count": 5,
   "id": "6b98dfd9",
   "metadata": {},
   "outputs": [
    {
     "ename": "NameError",
     "evalue": "name 'link_list' is not defined",
     "output_type": "error",
     "traceback": [
      "\u001b[1;31m---------------------------------------------------------------------------\u001b[0m",
      "\u001b[1;31mNameError\u001b[0m                                 Traceback (most recent call last)",
      "Cell \u001b[1;32mIn[5], line 7\u001b[0m\n\u001b[0;32m      5\u001b[0m \u001b[38;5;28;01mwith\u001b[39;00m \u001b[38;5;28mopen\u001b[39m(\u001b[38;5;124m'\u001b[39m\u001b[38;5;124marchlinks.csv\u001b[39m\u001b[38;5;124m'\u001b[39m, \u001b[38;5;124m'\u001b[39m\u001b[38;5;124mw\u001b[39m\u001b[38;5;124m'\u001b[39m,newline\u001b[38;5;241m=\u001b[39m\u001b[38;5;124m'\u001b[39m\u001b[38;5;124m'\u001b[39m) \u001b[38;5;28;01mas\u001b[39;00m csvfile: \n\u001b[0;32m      6\u001b[0m     writer \u001b[38;5;241m=\u001b[39m csv\u001b[38;5;241m.\u001b[39mwriter(csvfile) \n\u001b[1;32m----> 7\u001b[0m     \u001b[38;5;28;01mfor\u001b[39;00m link \u001b[38;5;129;01min\u001b[39;00m \u001b[43mlink_list\u001b[49m:\n\u001b[0;32m      8\u001b[0m         \u001b[38;5;28mprint\u001b[39m(link)\n\u001b[0;32m      9\u001b[0m         writer\u001b[38;5;241m.\u001b[39mwriterow([link])\n",
      "\u001b[1;31mNameError\u001b[0m: name 'link_list' is not defined"
     ]
    }
   ],
   "source": [
    "#Write the data to a csv file\n",
    "\n",
    "import csv \n",
    "        \n",
    "with open('archlinks.csv', 'w',newline='') as csvfile: \n",
    "    writer = csv.writer(csvfile) \n",
    "    for link in link_list:\n",
    "        print(link)\n",
    "        writer.writerow([link])"
   ]
  },
  {
   "cell_type": "code",
   "execution_count": 1,
   "id": "2a3ec1b4",
   "metadata": {},
   "outputs": [
    {
     "ename": "NameError",
     "evalue": "name 'webdriver' is not defined",
     "output_type": "error",
     "traceback": [
      "\u001b[1;31m---------------------------------------------------------------------------\u001b[0m",
      "\u001b[1;31mNameError\u001b[0m                                 Traceback (most recent call last)",
      "Cell \u001b[1;32mIn[1], line 5\u001b[0m\n\u001b[0;32m      1\u001b[0m \u001b[38;5;66;03m## Iterate through the csv and download the images\u001b[39;00m\n\u001b[0;32m      2\u001b[0m \u001b[38;5;66;03m#import library\u001b[39;00m\n\u001b[0;32m      3\u001b[0m \u001b[38;5;28;01mimport\u001b[39;00m \u001b[38;5;21;01mrequests\u001b[39;00m\n\u001b[1;32m----> 5\u001b[0m driver \u001b[38;5;241m=\u001b[39m \u001b[43mwebdriver\u001b[49m\u001b[38;5;241m.\u001b[39mChrome()\n\u001b[0;32m      7\u001b[0m \u001b[38;5;66;03m#define a counter for naming \u001b[39;00m\n\u001b[0;32m      8\u001b[0m i\u001b[38;5;241m=\u001b[39m\u001b[38;5;241m0\u001b[39m\n",
      "\u001b[1;31mNameError\u001b[0m: name 'webdriver' is not defined"
     ]
    }
   ],
   "source": [
    "## Iterate through the csv and download the images\n",
    "#import library\n",
    "import requests\n",
    "\n",
    "driver = webdriver.Chrome()\n",
    "\n",
    "#define a counter for naming \n",
    "i=0\n",
    "\n",
    "#read the produced csv and iterate through the list\n",
    "with open(\"archlinks.csv\", 'r',encoding='utf-8') as file:\n",
    "    csvreader = csv.reader(file)    \n",
    "    for url in csvreader:       \n",
    "                \n",
    "        #open each link \n",
    "        driver.get(url[0])\n",
    "        sleep(2)\n",
    "        \n",
    "        #find the image link\n",
    "        imglink = driver.find_element(\"tag name\",\"source\").get_attribute('srcset') \n",
    "        \n",
    "        \n",
    "        print(imglink)\n",
    "        i += 1    \n",
    "        \n",
    "        response = requests.get(imglink)\n",
    "        #name the images\n",
    "        imagename=\"image\" + str(i)+\".jpg\"\n",
    "        #save the images\n",
    "        with open(imagename, \"wb\") as f:\n",
    "            f.write(response.content)\n",
    "       \n",
    "    \n",
    "#Close the webpage\n",
    "driver.quit()"
   ]
  },
  {
   "cell_type": "code",
   "execution_count": null,
   "id": "9d1d7281",
   "metadata": {},
   "outputs": [],
   "source": []
  }
 ],
 "metadata": {
  "kernelspec": {
   "display_name": "Python 3 (ipykernel)",
   "language": "python",
   "name": "python3"
  },
  "language_info": {
   "codemirror_mode": {
    "name": "ipython",
    "version": 3
   },
   "file_extension": ".py",
   "mimetype": "text/x-python",
   "name": "python",
   "nbconvert_exporter": "python",
   "pygments_lexer": "ipython3",
   "version": "3.8.18"
  }
 },
 "nbformat": 4,
 "nbformat_minor": 5
}
