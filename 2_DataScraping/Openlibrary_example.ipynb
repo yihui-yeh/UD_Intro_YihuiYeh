{
 "cells": [
  {
   "cell_type": "code",
   "execution_count": 2,
   "id": "004b0012",
   "metadata": {},
   "outputs": [],
   "source": [
    "# Import Selenium and its sub libraries\n",
    "import selenium \n",
    "from selenium import webdriver\n",
    "from selenium.webdriver.common.by import By\n",
    "from selenium.webdriver.common.keys import Keys\n",
    "from selenium.webdriver.support.ui import Select\n",
    "from selenium.webdriver.support.ui import WebDriverWait\n",
    "from selenium.webdriver.support import expected_conditions as EC\n",
    "from time import sleep\n",
    "import re"
   ]
  },
  {
   "cell_type": "code",
   "execution_count": 3,
   "id": "83a910d3",
   "metadata": {},
   "outputs": [],
   "source": [
    "url=\"https://openlibrary.org/\""
   ]
  },
  {
   "cell_type": "code",
   "execution_count": 4,
   "id": "dad3b73c",
   "metadata": {},
   "outputs": [],
   "source": [
    "#Create lists\n",
    "books_list = []\n",
    "author_list=[]\n",
    "link_list=[]\n",
    "pdf_list=[]"
   ]
  },
  {
   "cell_type": "code",
   "execution_count": 10,
   "id": "a6a13eb1",
   "metadata": {},
   "outputs": [],
   "source": [
    "def extract_page_data(driver):\n",
    "    #Grab all books\n",
    "    books=driver.find_elements(\"class name\", \"searchResultItem\")\n",
    "    #print(len(books))\n",
    "\n",
    "    #Create loop to itterate on the list\n",
    "    for b in range(len(books)):\n",
    "        try:          \n",
    "            #Extracting title\n",
    "            title = books[b].find_element(\"class name\",\"booktitle\").text\n",
    "            print(title)\n",
    "        \n",
    "            #Extraction of authors\n",
    "            authors=books[b].find_element(\"class name\",\"bookauthor\").text\n",
    "            #print(authors)\n",
    "        \n",
    "            #Extraction of link\n",
    "            link = books[b].find_element(\"link text\",title).get_attribute('href')\n",
    "            #print(link)\n",
    "        \n",
    "                  \n",
    "            #Add item to the respective lists\n",
    "            books_list.append(title)\n",
    "            author_list.append(authors)\n",
    "            link_list.append(link)\n",
    "            sleep(2)  \n",
    "        \n",
    "        except:\n",
    "            pass\n",
    "                       \n",
    "            \n",
    "        # Not all items have pdf\n",
    "        try:\n",
    "            #Extraction of pdf\n",
    "            pdf= books[b].find_element(\"xpath\",\".//a[(@title = 'Read ebook from Internet Archive')]\").get_attribute('href')\n",
    "            #print(pdf) \n",
    "            pdf_list.append(pdf)\n",
    "        except:\n",
    "            pdf_list.append(\"NONE\")\n",
    "            continue"
   ]
  },
  {
   "cell_type": "code",
   "execution_count": 7,
   "id": "c0dc6bbc",
   "metadata": {},
   "outputs": [],
   "source": [
    "driver = webdriver.Chrome()\n",
    "driver.get(url)"
   ]
  },
  {
   "cell_type": "code",
   "execution_count": 11,
   "id": "6d64d079",
   "metadata": {},
   "outputs": [
    {
     "name": "stdout",
     "output_type": "stream",
     "text": [
      "Urban design: method and techniques\n",
      "Urban Design: Street and Square (Urban Design)\n",
      "Urban design.\n",
      "[Urban design.\n",
      "Urban design.\n",
      "Companion to Urban design\n",
      "Urban Design: Green Dimensions\n",
      "Urban Design: Method and Techniques (Urban Design)\n",
      "The comprehensive plan : urban design\n",
      "The urban design reader\n",
      "Urban design futures\n",
      "Urban design: the composition of complexity\n",
      "Urban Design: Manhattan\n",
      "Urban design: the American experience\n",
      "Sustainable Urbanism: Urban Design With Nature\n",
      "Concepts of urban design\n",
      "Urban Design Reader\n",
      "Urban landscape design\n",
      "Urban Design: the Composition of Complexity\n",
      "Urban design thesis.\n",
      "Urban design thesis.\n",
      "York urban design.\n",
      "Sustainable Urban Design: An Environmental Approach\n",
      "Inclusive Urban Design: Public Toilets\n",
      "Approaching Urban Design: The Design Process\n",
      "The comprehensive plan: urban design\n",
      "Inclusive urban design: streets for life\n",
      "Explorations in Urban Design: An Urban Design Research Primer\n",
      "Urban design: a selected bibliography\n",
      "Urban design: a comprehensive reference\n",
      "Urban design--reshaping our cities\n",
      "Urban design source book.\n",
      "Urban design: reshaping our cities\n",
      "Urban design source book.\n",
      "Toronto urban design guidelines.\n",
      "Urban design: Italian/Chinese curriculum\n",
      "Urban design source book.\n",
      "Approaching urban design: the design process\n",
      "Urban transformations: power, people and urban design\n",
      "The urban pattern: city planning and design\n"
     ]
    },
    {
     "ename": "ElementClickInterceptedException",
     "evalue": "Message: element click intercepted: Element <a href=\"/search?page=...&amp;mode=everything&amp;q=Urban+Design\" class=\"ChoosePage\">9</a> is not clickable at point (667, 147). Other element would receive the click: <a href=\"/borrow/ia/urbanpatterncity00gall?ref=ol\" title=\"... ebook from Internet Archive\" class=\"cta-btn cta-btn--ia cta-btn--available cta-btn--borrow\" data-ol-link-track=\"CTAClick|Borrow\">Borrow</a>\n  (Session info: chrome=117.0.5938.150)\nStacktrace:\n\tGetHandleVerifier [0x00007FF6A9C77D12+55474]\n\t(No symbol) [0x00007FF6A9BE77C2]\n\t(No symbol) [0x00007FF6A9A9E0EB]\n\t(No symbol) [0x00007FF6A9AE4E7B]\n\t(No symbol) [0x00007FF6A9AE3249]\n\t(No symbol) [0x00007FF6A9AE1018]\n\t(No symbol) [0x00007FF6A9AE00D3]\n\t(No symbol) [0x00007FF6A9AD5DCF]\n\t(No symbol) [0x00007FF6A9AFF15A]\n\t(No symbol) [0x00007FF6A9AD56E6]\n\t(No symbol) [0x00007FF6A9AFF370]\n\t(No symbol) [0x00007FF6A9B17EF2]\n\t(No symbol) [0x00007FF6A9AFEF33]\n\t(No symbol) [0x00007FF6A9AD3D41]\n\t(No symbol) [0x00007FF6A9AD4F84]\n\tGetHandleVerifier [0x00007FF6A9FDB762+3609346]\n\tGetHandleVerifier [0x00007FF6AA031A80+3962400]\n\tGetHandleVerifier [0x00007FF6AA029F0F+3930799]\n\tGetHandleVerifier [0x00007FF6A9D13CA6+694342]\n\t(No symbol) [0x00007FF6A9BF2218]\n\t(No symbol) [0x00007FF6A9BEE484]\n\t(No symbol) [0x00007FF6A9BEE5B2]\n\t(No symbol) [0x00007FF6A9BDEE13]\n\tBaseThreadInitThunk [0x00007FFE0C55257D+29]\n\tRtlUserThreadStart [0x00007FFE0DF0AA68+40]\n",
     "output_type": "error",
     "traceback": [
      "\u001b[1;31m---------------------------------------------------------------------------\u001b[0m",
      "\u001b[1;31mElementClickInterceptedException\u001b[0m          Traceback (most recent call last)",
      "Cell \u001b[1;32mIn[11], line 29\u001b[0m\n\u001b[0;32m     26\u001b[0m extract_page_data(driver)\n\u001b[0;32m     28\u001b[0m \u001b[38;5;66;03m#Locate the \"Next\" button on the webpage and click it to navigate to the next page\u001b[39;00m\n\u001b[1;32m---> 29\u001b[0m \u001b[43mdriver\u001b[49m\u001b[38;5;241;43m.\u001b[39;49m\u001b[43mfind_element\u001b[49m\u001b[43m(\u001b[49m\u001b[38;5;124;43m\"\u001b[39;49m\u001b[38;5;124;43mxpath\u001b[39;49m\u001b[38;5;124;43m\"\u001b[39;49m\u001b[43m,\u001b[49m\u001b[43m \u001b[49m\u001b[38;5;124;43m\"\u001b[39;49m\u001b[38;5;124;43m//*[@id=\u001b[39;49m\u001b[38;5;124;43m'\u001b[39;49m\u001b[38;5;124;43msearchResults\u001b[39;49m\u001b[38;5;124;43m'\u001b[39;49m\u001b[38;5;124;43m]/div[2]/a[10]\u001b[39;49m\u001b[38;5;124;43m\"\u001b[39;49m\u001b[43m)\u001b[49m\u001b[38;5;241;43m.\u001b[39;49m\u001b[43mclick\u001b[49m\u001b[43m(\u001b[49m\u001b[43m)\u001b[49m\n",
      "File \u001b[1;32m~\\anaconda3\\envs\\BPro-Workshop\\lib\\site-packages\\selenium\\webdriver\\remote\\webelement.py:93\u001b[0m, in \u001b[0;36mWebElement.click\u001b[1;34m(self)\u001b[0m\n\u001b[0;32m     91\u001b[0m \u001b[38;5;28;01mdef\u001b[39;00m \u001b[38;5;21mclick\u001b[39m(\u001b[38;5;28mself\u001b[39m) \u001b[38;5;241m-\u001b[39m\u001b[38;5;241m>\u001b[39m \u001b[38;5;28;01mNone\u001b[39;00m:\n\u001b[0;32m     92\u001b[0m \u001b[38;5;250m    \u001b[39m\u001b[38;5;124;03m\"\"\"Clicks the element.\"\"\"\u001b[39;00m\n\u001b[1;32m---> 93\u001b[0m     \u001b[38;5;28;43mself\u001b[39;49m\u001b[38;5;241;43m.\u001b[39;49m\u001b[43m_execute\u001b[49m\u001b[43m(\u001b[49m\u001b[43mCommand\u001b[49m\u001b[38;5;241;43m.\u001b[39;49m\u001b[43mCLICK_ELEMENT\u001b[49m\u001b[43m)\u001b[49m\n",
      "File \u001b[1;32m~\\anaconda3\\envs\\BPro-Workshop\\lib\\site-packages\\selenium\\webdriver\\remote\\webelement.py:394\u001b[0m, in \u001b[0;36mWebElement._execute\u001b[1;34m(self, command, params)\u001b[0m\n\u001b[0;32m    392\u001b[0m     params \u001b[38;5;241m=\u001b[39m {}\n\u001b[0;32m    393\u001b[0m params[\u001b[38;5;124m\"\u001b[39m\u001b[38;5;124mid\u001b[39m\u001b[38;5;124m\"\u001b[39m] \u001b[38;5;241m=\u001b[39m \u001b[38;5;28mself\u001b[39m\u001b[38;5;241m.\u001b[39m_id\n\u001b[1;32m--> 394\u001b[0m \u001b[38;5;28;01mreturn\u001b[39;00m \u001b[38;5;28;43mself\u001b[39;49m\u001b[38;5;241;43m.\u001b[39;49m\u001b[43m_parent\u001b[49m\u001b[38;5;241;43m.\u001b[39;49m\u001b[43mexecute\u001b[49m\u001b[43m(\u001b[49m\u001b[43mcommand\u001b[49m\u001b[43m,\u001b[49m\u001b[43m \u001b[49m\u001b[43mparams\u001b[49m\u001b[43m)\u001b[49m\n",
      "File \u001b[1;32m~\\anaconda3\\envs\\BPro-Workshop\\lib\\site-packages\\selenium\\webdriver\\remote\\webdriver.py:344\u001b[0m, in \u001b[0;36mWebDriver.execute\u001b[1;34m(self, driver_command, params)\u001b[0m\n\u001b[0;32m    342\u001b[0m response \u001b[38;5;241m=\u001b[39m \u001b[38;5;28mself\u001b[39m\u001b[38;5;241m.\u001b[39mcommand_executor\u001b[38;5;241m.\u001b[39mexecute(driver_command, params)\n\u001b[0;32m    343\u001b[0m \u001b[38;5;28;01mif\u001b[39;00m response:\n\u001b[1;32m--> 344\u001b[0m     \u001b[38;5;28;43mself\u001b[39;49m\u001b[38;5;241;43m.\u001b[39;49m\u001b[43merror_handler\u001b[49m\u001b[38;5;241;43m.\u001b[39;49m\u001b[43mcheck_response\u001b[49m\u001b[43m(\u001b[49m\u001b[43mresponse\u001b[49m\u001b[43m)\u001b[49m\n\u001b[0;32m    345\u001b[0m     response[\u001b[38;5;124m\"\u001b[39m\u001b[38;5;124mvalue\u001b[39m\u001b[38;5;124m\"\u001b[39m] \u001b[38;5;241m=\u001b[39m \u001b[38;5;28mself\u001b[39m\u001b[38;5;241m.\u001b[39m_unwrap_value(response\u001b[38;5;241m.\u001b[39mget(\u001b[38;5;124m\"\u001b[39m\u001b[38;5;124mvalue\u001b[39m\u001b[38;5;124m\"\u001b[39m, \u001b[38;5;28;01mNone\u001b[39;00m))\n\u001b[0;32m    346\u001b[0m     \u001b[38;5;28;01mreturn\u001b[39;00m response\n",
      "File \u001b[1;32m~\\anaconda3\\envs\\BPro-Workshop\\lib\\site-packages\\selenium\\webdriver\\remote\\errorhandler.py:229\u001b[0m, in \u001b[0;36mErrorHandler.check_response\u001b[1;34m(self, response)\u001b[0m\n\u001b[0;32m    227\u001b[0m         alert_text \u001b[38;5;241m=\u001b[39m value[\u001b[38;5;124m\"\u001b[39m\u001b[38;5;124malert\u001b[39m\u001b[38;5;124m\"\u001b[39m]\u001b[38;5;241m.\u001b[39mget(\u001b[38;5;124m\"\u001b[39m\u001b[38;5;124mtext\u001b[39m\u001b[38;5;124m\"\u001b[39m)\n\u001b[0;32m    228\u001b[0m     \u001b[38;5;28;01mraise\u001b[39;00m exception_class(message, screen, stacktrace, alert_text)  \u001b[38;5;66;03m# type: ignore[call-arg]  # mypy is not smart enough here\u001b[39;00m\n\u001b[1;32m--> 229\u001b[0m \u001b[38;5;28;01mraise\u001b[39;00m exception_class(message, screen, stacktrace)\n",
      "\u001b[1;31mElementClickInterceptedException\u001b[0m: Message: element click intercepted: Element <a href=\"/search?page=...&amp;mode=everything&amp;q=Urban+Design\" class=\"ChoosePage\">9</a> is not clickable at point (667, 147). Other element would receive the click: <a href=\"/borrow/ia/urbanpatterncity00gall?ref=ol\" title=\"... ebook from Internet Archive\" class=\"cta-btn cta-btn--ia cta-btn--available cta-btn--borrow\" data-ol-link-track=\"CTAClick|Borrow\">Borrow</a>\n  (Session info: chrome=117.0.5938.150)\nStacktrace:\n\tGetHandleVerifier [0x00007FF6A9C77D12+55474]\n\t(No symbol) [0x00007FF6A9BE77C2]\n\t(No symbol) [0x00007FF6A9A9E0EB]\n\t(No symbol) [0x00007FF6A9AE4E7B]\n\t(No symbol) [0x00007FF6A9AE3249]\n\t(No symbol) [0x00007FF6A9AE1018]\n\t(No symbol) [0x00007FF6A9AE00D3]\n\t(No symbol) [0x00007FF6A9AD5DCF]\n\t(No symbol) [0x00007FF6A9AFF15A]\n\t(No symbol) [0x00007FF6A9AD56E6]\n\t(No symbol) [0x00007FF6A9AFF370]\n\t(No symbol) [0x00007FF6A9B17EF2]\n\t(No symbol) [0x00007FF6A9AFEF33]\n\t(No symbol) [0x00007FF6A9AD3D41]\n\t(No symbol) [0x00007FF6A9AD4F84]\n\tGetHandleVerifier [0x00007FF6A9FDB762+3609346]\n\tGetHandleVerifier [0x00007FF6AA031A80+3962400]\n\tGetHandleVerifier [0x00007FF6AA029F0F+3930799]\n\tGetHandleVerifier [0x00007FF6A9D13CA6+694342]\n\t(No symbol) [0x00007FF6A9BF2218]\n\t(No symbol) [0x00007FF6A9BEE484]\n\t(No symbol) [0x00007FF6A9BEE5B2]\n\t(No symbol) [0x00007FF6A9BDEE13]\n\tBaseThreadInitThunk [0x00007FFE0C55257D+29]\n\tRtlUserThreadStart [0x00007FFE0DF0AA68+40]\n"
     ]
    }
   ],
   "source": [
    "driver = webdriver.Chrome()\n",
    "driver.get(url)\n",
    "\n",
    "#Create lists to store the data\n",
    "books_list = []\n",
    "author_list=[]\n",
    "link_list=[]\n",
    "pdf_list=[]\n",
    "\n",
    "language_change = driver.find_element(\"xpath\",\"//*[@id='topNotice']/div/div/div/details\").click()\n",
    "english_version = driver.find_element(\"xpath\",\"//*[@id='topNotice']/div/div/div/details/div/ul/li[3]/a\").click()\n",
    "\n",
    "#Step 1: identify search box\n",
    "search_query = driver.find_element(\"name\",\"q\")\n",
    "\n",
    "#Step 2: search a topic\n",
    "search_query.send_keys('Urban Design')\n",
    "search_query.send_keys(Keys.RETURN)\n",
    "#Delay\n",
    "sleep(1)\n",
    "\n",
    "\n",
    "\n",
    "#Step 3: Execute the function for each page\n",
    "for page_num in range(0,2):\n",
    "    \n",
    "    #Execute the function \n",
    "    extract_page_data(driver)\n",
    "        \n",
    "    #Locate the \"Next\" button on the webpage and click it to navigate to the next page\n",
    "    driver.find_element(\"xpath\", \"//*[@id='searchResults']/div[2]/a[10]\").click()\n",
    "\n",
    "#Close the webpage\n",
    "#driver.quit()"
   ]
  },
  {
   "cell_type": "code",
   "execution_count": 6,
   "id": "dfddef1f",
   "metadata": {},
   "outputs": [
    {
     "name": "stdout",
     "output_type": "stream",
     "text": [
      "['来自John Ruskin', '来自William Shakespeare', '来自Wilkie Collins', '来自William Shakespeare', '来自Miranda Kunstleben', '来自Alethea Wiel', '来自Kurt Otto-Wasow', '来自Gillian Price', '未知作者', '来自Martin Hürlimann', '来自Gabriel Fauré', '来自David. Hamilton', '来自Cecil Roth', '来自Daniel Pidgeon', '来自Anne G. Ward', '来自Printing', '来自Paula Hardy', '来自J. G. Links', '来自Ange Mlinko', '来自Fulvio Roiter', '来自George E. Youngberg', '来自Darwin Porter', '来自Clara Marshall', '来自Bruce Leimsidor', '来自Lindsay Stainton', '来自John Ruskin', '来自Milton Grundy', '来自Susie Boulton', '来自Luisa Grigoletto、Chiara Barbieri、Clara Marshall和Anne Hanley', '来自Jan Morris coast to coast和James Morris', '来自Gunter Derleth和Pia M. Grueber', '来自Giandomenico Romanelli', '来自Thomas Mann', '来自John Julius Norwich', '来自VENICE', '来自Rick Steves', '来自Tim Jepson', '来自John Pemble', '来自Alta Macadam', '来自Sam Christer', '未知作者', '未知作者', '来自Darwin Porter和Danforth Prince', '来自n/a', '来自Global Art Affairs Foundation', '来自John Julius Norwich', '未知作者', '未知作者', '来自Martin Gayford', '来自Guido Alberto Rossi', '来自Milton Grundy', '来自Rick Steves', '来自Jonathan Buckley', '来自James Morris', '来自Augustus J. C. Hare', '来自Rachel Lindsay', '来自Peter Ackroyd', '来自George Anthony Bull', '未知作者', '来自Sound Editions']\n"
     ]
    }
   ],
   "source": [
    "print(author_list)"
   ]
  },
  {
   "cell_type": "code",
   "execution_count": 1,
   "id": "bdbdb445",
   "metadata": {},
   "outputs": [
    {
     "ename": "NameError",
     "evalue": "name 'books_list' is not defined",
     "output_type": "error",
     "traceback": [
      "\u001b[1;31m---------------------------------------------------------------------------\u001b[0m",
      "\u001b[1;31mNameError\u001b[0m                                 Traceback (most recent call last)",
      "Cell \u001b[1;32mIn[1], line 5\u001b[0m\n\u001b[0;32m      2\u001b[0m \u001b[38;5;28;01mimport\u001b[39;00m \u001b[38;5;21;01mcsv\u001b[39;00m \n\u001b[0;32m      4\u001b[0m \u001b[38;5;66;03m#combine the lists\u001b[39;00m\n\u001b[1;32m----> 5\u001b[0m data\u001b[38;5;241m=\u001b[39m\u001b[38;5;28mzip\u001b[39m(\u001b[43mbooks_list\u001b[49m,author_list,link_list)\n\u001b[0;32m      7\u001b[0m \u001b[38;5;66;03m#Write all the data to a csv\u001b[39;00m\n\u001b[0;32m      8\u001b[0m \u001b[38;5;28;01mwith\u001b[39;00m \u001b[38;5;28mopen\u001b[39m(\u001b[38;5;124m'\u001b[39m\u001b[38;5;124mopenlibrarycatalogue.csv\u001b[39m\u001b[38;5;124m'\u001b[39m, \u001b[38;5;124m'\u001b[39m\u001b[38;5;124mw\u001b[39m\u001b[38;5;124m'\u001b[39m,newline\u001b[38;5;241m=\u001b[39m\u001b[38;5;124m'\u001b[39m\u001b[38;5;124m'\u001b[39m,encoding\u001b[38;5;241m=\u001b[39m\u001b[38;5;124m'\u001b[39m\u001b[38;5;124mutf-8\u001b[39m\u001b[38;5;124m'\u001b[39m) \u001b[38;5;28;01mas\u001b[39;00m csvfile: \n",
      "\u001b[1;31mNameError\u001b[0m: name 'books_list' is not defined"
     ]
    }
   ],
   "source": [
    "#Import the library\n",
    "import csv \n",
    "\n",
    "#combine the lists\n",
    "data=zip(books_list,author_list,link_list)\n",
    "\n",
    "#Write all the data to a csv\n",
    "with open('openlibrarycatalogue.csv', 'w',newline='',encoding='utf-8') as csvfile: \n",
    "    writer = csv.writer(csvfile) \n",
    "    for row in data:\n",
    "        writer.writerow(row)\n",
    "        \n",
    "#Write only links to a csv\n",
    "with open('onlylinks.csv', 'w',newline='') as csvfile: \n",
    "    writer = csv.writer(csvfile) \n",
    "    for link in link_list:\n",
    "        #print(row)\n",
    "        writer.writerow([link])"
   ]
  },
  {
   "cell_type": "code",
   "execution_count": null,
   "id": "8908f330",
   "metadata": {},
   "outputs": [],
   "source": [
    "#import a new library\n",
    "import requests\n",
    "\n",
    "\n",
    "#read the produced csv and iterate through the list\n",
    "with open(\"onlylinks1.csv\", 'r',encoding='utf-8') as file:\n",
    "    csvreader = csv.reader(file)    \n",
    "    for url in csvreader:       \n",
    "                \n",
    "        #open each link\n",
    "        driver = webdriver.Chrome()\n",
    "        driver.get(url[0])\n",
    "        sleep(2)\n",
    "        \n",
    "        #click on the pdf button\n",
    "        find_pdf=driver.find_element(\"xpath\",\"//li//a[@title='Download a PDF from Internet Archive']\").get_attribute('href')\n",
    "        print(find_pdf)\n",
    "\n",
    "        \n",
    "        ##########\n",
    "        \n",
    "        #define a counter for naming \n",
    "        i=0\n",
    "        \n",
    "        #Check if pdf exists and then download\n",
    "\n",
    "\n",
    "\n",
    "        if ('.pdf' in find_pdf):\n",
    "            i += 1\n",
    "            #print(\"Downloading file: \", i)\n",
    " \n",
    "            # Get response object for link\n",
    "            response = requests.get(find_pdf)\n",
    " \n",
    "            # Write content in pdf file\n",
    "            pdf = open(\"pdf\"+str(i)+\".pdf\", 'wb')\n",
    "            pdf.write(response.content)\n",
    "            pdf.close()\n",
    "       \n",
    "        #Close the webpage\n",
    "        driver.quit()"
   ]
  }
 ],
 "metadata": {
  "kernelspec": {
   "display_name": "Python 3 (ipykernel)",
   "language": "python",
   "name": "python3"
  },
  "language_info": {
   "codemirror_mode": {
    "name": "ipython",
    "version": 3
   },
   "file_extension": ".py",
   "mimetype": "text/x-python",
   "name": "python",
   "nbconvert_exporter": "python",
   "pygments_lexer": "ipython3",
   "version": "3.8.18"
  }
 },
 "nbformat": 4,
 "nbformat_minor": 5
}
