{
 "cells": [
  {
   "cell_type": "markdown",
   "id": "529d91ae",
   "metadata": {},
   "source": [
    "# Exercise 00\n",
    "Write a bit of code that prints _Introduction to Programming_ to the console and execute the cell"
   ]
  },
  {
   "cell_type": "code",
   "execution_count": 1,
   "id": "98711beb",
   "metadata": {},
   "outputs": [
    {
     "name": "stdout",
     "output_type": "stream",
     "text": [
      "Introduction to Programming\n"
     ]
    }
   ],
   "source": [
    "print(\"Introduction to Programming\")"
   ]
  },
  {
   "cell_type": "markdown",
   "id": "63ad5023",
   "metadata": {},
   "source": [
    "-----------------------------------------------------------------------------\n",
    "# Exercise 01\n",
    "Hello World is traditionally the first program anyone writes. It is\n",
    "very simple and the only thing it should do is print Hello World! to the\n",
    "terminal window.\n",
    "Create a file called HelloWorld.py and edit the contents so it prints Hello World! to the terminal and execute it using the command line."
   ]
  },
  {
   "cell_type": "markdown",
   "id": "a4a7c4c2",
   "metadata": {},
   "source": [
    "-----------------------------------------------------------------------------\n",
    "# Exercise 02\n",
    "Write some code to print your name, email, and age on separate lines. For each element first assign it to a variable and use the variable to print. \n",
    "\n",
    "Bonus: try to create the print statement for all variable in one line of code. (hint: '\\n' is the character for a new line)"
   ]
  },
  {
   "cell_type": "code",
   "execution_count": 1,
   "id": "b959518f",
   "metadata": {},
   "outputs": [
    {
     "name": "stdout",
     "output_type": "stream",
     "text": [
      "Yihui Yeh\n",
      "yi-hui.yeh.23@ucl.ac.uk\n",
      "31\n"
     ]
    }
   ],
   "source": [
    "myname = \"Yihui Yeh\"\n",
    "myage = 31\n",
    "mymail = \"yi-hui.yeh.23@ucl.ac.uk\"\n",
    "\n",
    "print(myname + '\\n' + mymail + '\\n' + str(myage))"
   ]
  },
  {
   "cell_type": "markdown",
   "id": "0dd1c1d1",
   "metadata": {},
   "source": [
    "-----------------------------------------------------------------------------\n",
    "# Exercise 03\n",
    "Print the numbers 0, 178, -21, 2938 divided by 49, 436 multiplied with 9948 and 12 to the power of 20\n",
    "\n",
    "(Hint: Look up the documentation of basic arithmetic operators)"
   ]
  },
  {
   "cell_type": "code",
   "execution_count": 5,
   "id": "c1f24297",
   "metadata": {},
   "outputs": [
    {
     "name": "stdout",
     "output_type": "stream",
     "text": [
      "0.0\n",
      "3.63265306122449\n",
      "-0.42857142857142855\n",
      "59.95918367346939\n",
      "4337328\n",
      "3833759992447475122176\n"
     ]
    }
   ],
   "source": [
    "for i in [0,178,-21,2938]:\n",
    "    x = i/49\n",
    "    print(x)\n",
    "print(436*9948)\n",
    "print(12**20)"
   ]
  },
  {
   "cell_type": "markdown",
   "id": "1f151455",
   "metadata": {},
   "source": [
    "-----------------------------------------------------------------------------\n",
    "# Exercise 04\n",
    "Print sin(200), cos(100), tan($\\pi$/4)\n",
    "\n",
    "(Hint: Look up for how to use trigonometric function, and how to get the value of $\\pi$.)"
   ]
  },
  {
   "cell_type": "code",
   "execution_count": 4,
   "id": "d0e37690",
   "metadata": {},
   "outputs": [
    {
     "name": "stdout",
     "output_type": "stream",
     "text": [
      "-0.8732972972139946\n",
      "0.8623188722876839\n",
      "0.9999999999999999\n"
     ]
    }
   ],
   "source": [
    "import math\n",
    "\n",
    "print(math.sin(200))\n",
    "print(math.cos(100))\n",
    "print(math.tan(math.pi/4))"
   ]
  },
  {
   "cell_type": "markdown",
   "id": "9d026820",
   "metadata": {},
   "source": [
    "-----------------------------------------------------------------------------\n",
    "# Exercise 05\n",
    "Write a program to read your first and last names from the console seperately, and then print them on the console together, separated by a space."
   ]
  },
  {
   "cell_type": "code",
   "execution_count": 2,
   "id": "4c7217e0",
   "metadata": {},
   "outputs": [
    {
     "name": "stdout",
     "output_type": "stream",
     "text": [
      "Please give your first name:Yihui\n",
      "Please give your surname:Yeh\n",
      "Yihui Yeh\n"
     ]
    }
   ],
   "source": [
    "name1 = input(\"Please give your first name:\")\n",
    "name2 = input(\"Please give your surname:\")\n",
    "\n",
    "print(name1 + \" \" + name2)"
   ]
  },
  {
   "cell_type": "markdown",
   "id": "e83fa346",
   "metadata": {},
   "source": [
    "-----------------------------------------------------------------------------\n",
    "# Exercise 06\n",
    "Write a program that determines whether a number given as user input is positive or negative\n",
    " \n",
    "You will need to convert the console input from a string to a number first!"
   ]
  },
  {
   "cell_type": "code",
   "execution_count": 1,
   "id": "ecd924c2",
   "metadata": {},
   "outputs": [
    {
     "name": "stdout",
     "output_type": "stream",
     "text": [
      "Please give a nember:0500\n",
      "The given number is positive.\n"
     ]
    }
   ],
   "source": [
    "X = input(\"Please give a nember:\")\n",
    "if int(X) > 0:\n",
    "    print(\"The given number is positive.\")\n",
    "elif int(X) < 0:\n",
    "    print(\"The given number is negative.\")\n",
    "else:\n",
    "    print(\"0 is neither positive nor negative.\")"
   ]
  },
  {
   "cell_type": "markdown",
   "id": "2a192596",
   "metadata": {},
   "source": [
    "-----------------------------------------------------------------------------\n",
    "# Exercise 07\n",
    "Write a program that picks a random number between 1-20 and makes the user guess until they get the number right. Then print a congratulations message\n",
    "- (Find out yourself how to generate a random integer)\n",
    "- Bonus: make the user choose the range within which they have to guess\n",
    "- Bonus: keep track of how many guesses were made and print this at the end"
   ]
  },
  {
   "cell_type": "code",
   "execution_count": 6,
   "id": "70358dd3",
   "metadata": {
    "scrolled": true
   },
   "outputs": [
    {
     "name": "stdout",
     "output_type": "stream",
     "text": [
      "Let's play a game!\n",
      "Please guess the number between 1 and 20.\n",
      "-----------------------------------------\n",
      "Your guess:13\n",
      "The number you entered is too big, try another one!\n",
      "Re-enter a number:11\n",
      "The number you entered is too big, try another one!\n",
      "Re-enter a number:7\n",
      "The number you entered is too big, try another one!\n",
      "Re-enter a number:3\n",
      "The number you entered is too small, try another one!\n",
      "Re-enter a number:5\n",
      "The number you entered is too big, try another one!\n",
      "Re-enter a number:4\n",
      "-----------------------------------------\n",
      "Congratulations! Your number is correct!!\n",
      "The correct number is:-> 4 <-\n",
      "You have tried 6 times to get the correct answer.\n"
     ]
    }
   ],
   "source": [
    "import random\n",
    "RandomNum = random.randint(1,21)\n",
    "i = 1\n",
    "# print(RandNum)\n",
    "print(\"Let's play a game!\")\n",
    "print(\"Please guess the number between 1 and 20.\")\n",
    "print(\"-----------------------------------------\")\n",
    "\n",
    "Num = int(input(\"Your guess:\"))\n",
    "\n",
    "while Num != RandomNum:\n",
    "    if Num < RandomNum:\n",
    "        print(\"The number you entered is too small, try another one!\")\n",
    "        i += 1\n",
    "        Num = int(input(\"Re-enter a number:\"))\n",
    "    elif Num > RandomNum:\n",
    "        print(\"The number you entered is too big, try another one!\")\n",
    "        i += 1\n",
    "        Num = int(input(\"Re-enter a number:\"))\n",
    "    elif Num == RandomNum:\n",
    "        i += 1\n",
    "        \n",
    "print(\"-----------------------------------------\")\n",
    "print(\"Congratulations! Your number is correct!!\")\n",
    "print(\"The correct number is:\" + \"-> \" + str(RandomNum) + \" <-\")\n",
    "print(\"You have tried\" + \" \" + str(i) + \" \" + \"times to get the correct answer.\")"
   ]
  },
  {
   "cell_type": "markdown",
   "id": "d53b9c07",
   "metadata": {},
   "source": [
    "-----------------------------------------------------------------------------\n",
    "# Exercise 08\n",
    "Ask a sentence as input, then print the words in alphabetical order.\n",
    "Hint: look up how to split up a string"
   ]
  },
  {
   "cell_type": "code",
   "execution_count": 12,
   "id": "b6524cf5",
   "metadata": {},
   "outputs": [
    {
     "name": "stdout",
     "output_type": "stream",
     "text": [
      "Please type a short sentence here:Have a nice day :)\n",
      ":)\n",
      "Have\n",
      "a\n",
      "day\n",
      "nice\n"
     ]
    }
   ],
   "source": [
    "sentence = input(\"Please type a short sentence here:\")\n",
    "\n",
    "words = sentence.split()\n",
    "words.sort()\n",
    "\n",
    "for x in words:\n",
    "    print(x)"
   ]
  },
  {
   "cell_type": "markdown",
   "id": "09a7b060",
   "metadata": {},
   "source": [
    "-----------------------------------------------------------------------------\n",
    "# Exercise 09\n",
    "Write a program using for loops to print a christmas tree of x lines high\n",
    "specified by the user.\n",
    "(use for loops)\n",
    "so for instance, a chrismas tree of 4 high should looks like this:\n",
    "\n",
    "```\n",
    "\n",
    "    *\n",
    "   ***\n",
    "  *****\n",
    " *******\n",
    "    |\n",
    "\n",
    "```\n",
    "\n",
    "hint: first combine strings into a variable before printing"
   ]
  },
  {
   "cell_type": "code",
   "execution_count": 15,
   "id": "5150f7a4",
   "metadata": {},
   "outputs": [
    {
     "name": "stdout",
     "output_type": "stream",
     "text": [
      "Hey! Merry Christmas!!\n",
      "The Xmas tree height:7\n",
      " \n",
      "      *\n",
      "     ***\n",
      "    *****\n",
      "   *******\n",
      "  *********\n",
      " ***********\n",
      "*************\n",
      "      |\n"
     ]
    }
   ],
   "source": [
    "print(\"Hey! Merry Christmas!!\")\n",
    "X = int(input(\"The Xmas tree height:\"))\n",
    "print(\" \")\n",
    "for i in range(1, X + 1):\n",
    "    spaces = \" \" * (X - i)\n",
    "    stars = \"*\" * (2 * i - 1)\n",
    "    print(spaces + stars)\n",
    "\n",
    "Y = \" \" * (X - 1)\n",
    "print(Y + \"|\")"
   ]
  },
  {
   "cell_type": "markdown",
   "id": "07f67531",
   "metadata": {},
   "source": [
    "-----------------------------------------------------------------------------\n",
    "# Exercise 10\n",
    "Write a piece of code that prints the first $n$ numbers of the padovan sequence"
   ]
  },
  {
   "cell_type": "code",
   "execution_count": 8,
   "id": "d301c61b",
   "metadata": {},
   "outputs": [
    {
     "name": "stdout",
     "output_type": "stream",
     "text": [
      "Enter the number of Padoven numbers to print:13\n",
      "-----------------------------------------------\n",
      "1\n",
      "1\n",
      "2\n",
      "2\n",
      "3\n",
      "4\n",
      "5\n",
      "7\n",
      "9\n",
      "12\n",
      "16\n",
      "21\n",
      "28\n"
     ]
    }
   ],
   "source": [
    "n = int(input(\"Enter the number of Padoven numbers to print:\"))\n",
    "print(\"-----------------------------------------------\")\n",
    "p0, p1, p2 = 1, 1, 1\n",
    "print(p0)\n",
    "print(p1)\n",
    "\n",
    "for i in range(2, n):\n",
    "    p3 = p0 + p1\n",
    "    print(p3)\n",
    "    p0, p1, p2 = p1, p2, p3"
   ]
  }
 ],
 "metadata": {
  "kernelspec": {
   "display_name": "Python 3 (ipykernel)",
   "language": "python",
   "name": "python3"
  },
  "language_info": {
   "codemirror_mode": {
    "name": "ipython",
    "version": 3
   },
   "file_extension": ".py",
   "mimetype": "text/x-python",
   "name": "python",
   "nbconvert_exporter": "python",
   "pygments_lexer": "ipython3",
   "version": "3.8.18"
  }
 },
 "nbformat": 4,
 "nbformat_minor": 5
}
