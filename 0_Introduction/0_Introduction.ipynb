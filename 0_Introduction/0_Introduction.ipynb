{
 "cells": [
  {
   "cell_type": "markdown",
   "metadata": {
    "slideshow": {
     "slide_type": "-"
    }
   },
   "source": [
    "---\n",
    "<br/><br/>\n",
    "<br/><br/>\n",
    "<br/><br/>\n",
    "# B-Pro UD 2023/2024\n",
    "# Intro Project\n",
    "<br/><br/>\n",
    "<br/><br/>\n",
    "<br/><br/>"
   ]
  },
  {
   "cell_type": "markdown",
   "metadata": {
    "slideshow": {
     "slide_type": "-"
    }
   },
   "source": [
    "------------------\n",
    "<br/><br/>\n",
    "<br/><br/>\n",
    "<br/><br/>\n",
    "# Welcome\n",
    "### Julian Besems\n",
    "B-Pro UD Design Tutor, RC11\n",
    "PhD candidate at the Chair of Digital Architectonics, ETH Zurich\n",
    "\n",
    "### Margie Chaskopoulou\n",
    "B-Pro UD Design Tutor, RC14\n",
    "\n",
    "### Mansi Kothari\n",
    "B-Pro UD RC11 graduate 2023\n",
    "\n",
    "### Aalok Joshi\n",
    "B-Pro UD RC14 graduate 2023\n",
    "\n",
    "<br/><br/>\n",
    "<br/><br/>\n",
    "<br/><br/>"
   ]
  },
  {
   "cell_type": "markdown",
   "metadata": {
    "slideshow": {
     "slide_type": "-"
    }
   },
   "source": [
    "----\n",
    "# Schedule\n",
    "# Schedule\n",
    "__Monday__: 14:00 - 2/10 (Today): __Introduction__\n",
    "\n",
    "- What is programming, Variables, Loops\n",
    "    - Text based assignments for Wednesday\n",
    "\n",
    "__Tuesday__: - 3/10: _seminar_\n",
    "- Check Installation, help with questions\n",
    "\n",
    "__Wednesday__: 11:00 - 4/10: __Session 1__\n",
    "- Functions, Lists, Arrays, Read and Write to files\n",
    "    - Instruct Wall-E Assignment for Friday\n",
    "    - Text based assignment for Friday\n",
    "\n",
    "__Thursday__: - 5/10: _seminar_\n",
    "- Help with questions\n",
    "\n",
    "__Friday__: TBD - 6/10: __Session 2__\n",
    "- Web scraping in Selenium\n",
    "    - Final web scraping assignment for Tuesday 10/10\n",
    "\n",
    "__Monday__: - 9/10: _seminar_\n",
    "- Help with questions\n",
    "\n",
    "__Tuesday__: - 14:00 - 10/10: __Presentation of final assignment__"
   ]
  },
  {
   "cell_type": "markdown",
   "metadata": {},
   "source": [
    "----\n",
    "# Session Structure\n",
    "- Feedback and questions on assignments\n",
    "- Lecture on new theory\n",
    "- Tutorial to start on the next set of assignment\n",
    "\n",
    "All material available on:\n",
    "https://github.com/JulianBesems/UD_IntroProject_2023"
   ]
  },
  {
   "cell_type": "markdown",
   "metadata": {},
   "source": [
    "----\n",
    "# Assignments\n",
    "### Preparation\n",
    "- First create a GitHub account (Use your UCL email for this)\n",
    "- Create a new PUBLIC repository named UD_Intro_LastnameFirstname (replace LastnameFirstname accordingly)\n",
    "- Add the GitHub repository link and your name to the excel sheet in the Teams Folder\n",
    "\n",
    "### For each assignment\n",
    "- Create a new folder for that assignment titled the same as the corresponding session on the main GitHub Repo: https://github.com/JulianBesems/UD_IntroProject_2023 (so for the first one: 0_Introduction)\n",
    "- Upload the completed assignment files to that folder __3 Hours__ before the start of the next session.\n",
    "\n",
    "_(For an introduction to GitHub see: https://docs.github.com/en/get-started/quickstart/hello-world . You won't need all of this functionality for this workshop, but it's very usefull to get to know it well)_\n"
   ]
  },
  {
   "cell_type": "markdown",
   "metadata": {},
   "source": [
    "----\n",
    "\n",
    "# Install Python 3.8 and jupyter notebook through Anaconda \n",
    "\n",
    "If you haven't done this yet: https://docs.anaconda.com/free/anaconda/install/index.html\n",
    "\n",
    "\n",
    "# And create an environment with Python 3.8 as version\n",
    "(https://docs.conda.io/projects/conda/en/4.6.0/_downloads/52a95608c49671267e40c689e0bc00ca/conda-cheatsheet.pdf)\n",
    "\n",
    "Make sure all your work is done within the environment to avoid installation conflicts"
   ]
  },
  {
   "cell_type": "markdown",
   "metadata": {},
   "source": [
    "<br/><br/>\n",
    "<br/><br/>"
   ]
  },
  {
   "cell_type": "markdown",
   "metadata": {},
   "source": [
    "---\n",
    "# HelloWorld"
   ]
  },
  {
   "cell_type": "code",
   "execution_count": 1,
   "metadata": {
    "scrolled": true
   },
   "outputs": [
    {
     "name": "stdout",
     "output_type": "stream",
     "text": [
      "Hello World!\n"
     ]
    }
   ],
   "source": [
    "print(\"Hello World!\")"
   ]
  },
  {
   "cell_type": "markdown",
   "metadata": {},
   "source": [
    "__Python is a scripting language__\n",
    "_(NOTE TO SELF: show python shell)_"
   ]
  },
  {
   "cell_type": "markdown",
   "metadata": {},
   "source": [
    "---"
   ]
  },
  {
   "cell_type": "code",
   "execution_count": 2,
   "metadata": {},
   "outputs": [
    {
     "data": {
      "text/plain": [
       "82491"
      ]
     },
     "execution_count": 2,
     "metadata": {},
     "output_type": "execute_result"
    }
   ],
   "source": [
    "5615 + 76876"
   ]
  },
  {
   "cell_type": "code",
   "execution_count": 3,
   "metadata": {},
   "outputs": [
    {
     "data": {
      "text/plain": [
       "3374066680"
      ]
     },
     "execution_count": 3,
     "metadata": {},
     "output_type": "execute_result"
    }
   ],
   "source": [
    "36382 * 92740"
   ]
  },
  {
   "cell_type": "code",
   "execution_count": 4,
   "metadata": {},
   "outputs": [
    {
     "data": {
      "text/plain": [
       "256"
      ]
     },
     "execution_count": 4,
     "metadata": {},
     "output_type": "execute_result"
    }
   ],
   "source": [
    "2**8"
   ]
  },
  {
   "cell_type": "code",
   "execution_count": 5,
   "metadata": {},
   "outputs": [
    {
     "data": {
      "text/plain": [
       "383.7"
      ]
     },
     "execution_count": 5,
     "metadata": {},
     "output_type": "execute_result"
    }
   ],
   "source": [
    "3837/10"
   ]
  },
  {
   "cell_type": "code",
   "execution_count": 6,
   "metadata": {},
   "outputs": [
    {
     "data": {
      "text/plain": [
       "383"
      ]
     },
     "execution_count": 6,
     "metadata": {},
     "output_type": "execute_result"
    }
   ],
   "source": [
    "3837//10"
   ]
  },
  {
   "cell_type": "code",
   "execution_count": 7,
   "metadata": {},
   "outputs": [
    {
     "data": {
      "text/plain": [
       "7"
      ]
     },
     "execution_count": 7,
     "metadata": {},
     "output_type": "execute_result"
    }
   ],
   "source": [
    "3837%10"
   ]
  },
  {
   "cell_type": "code",
   "execution_count": 8,
   "metadata": {},
   "outputs": [
    {
     "data": {
      "text/plain": [
       "3.141592653589793"
      ]
     },
     "execution_count": 8,
     "metadata": {},
     "output_type": "execute_result"
    }
   ],
   "source": [
    "import math\n",
    "math.pi"
   ]
  },
  {
   "cell_type": "code",
   "execution_count": 9,
   "metadata": {},
   "outputs": [
    {
     "data": {
      "text/plain": [
       "0.8939966636005579"
      ]
     },
     "execution_count": 9,
     "metadata": {},
     "output_type": "execute_result"
    }
   ],
   "source": [
    "math.sin(90)"
   ]
  },
  {
   "cell_type": "code",
   "execution_count": 10,
   "metadata": {},
   "outputs": [
    {
     "data": {
      "text/plain": [
       "1.0"
      ]
     },
     "execution_count": 10,
     "metadata": {},
     "output_type": "execute_result"
    }
   ],
   "source": [
    "math.sin(math.radians(90))"
   ]
  },
  {
   "cell_type": "markdown",
   "metadata": {},
   "source": [
    "---\n",
    "<br/><br/>\n",
    "<br/><br/>\n",
    "<br/><br/>\n",
    "# What is Programming?"
   ]
  },
  {
   "cell_type": "markdown",
   "metadata": {},
   "source": [
    "Think of an algorithm -> Express it in a certain programming language"
   ]
  },
  {
   "cell_type": "markdown",
   "metadata": {},
   "source": [
    "---\n",
    "<br/><br/>\n",
    "<br/><br/>\n",
    "<br/><br/>\n",
    "## Building blocks for algorithms\n",
    "- variables\n",
    "- operators\n",
    "- conditions\n",
    "- loops\n",
    "- functions\n",
    "- classes\n",
    "<br/><br/>\n",
    "<br/><br/>\n",
    "<br/><br/>"
   ]
  },
  {
   "cell_type": "markdown",
   "metadata": {},
   "source": [
    "---\n",
    "<br/><br/>\n",
    "# Python\n",
    "\n",
    "<img src=\"https://i.redd.it/4jp01vd2rfp51.jpg\" alt=\"drawing\" width=\"600\"/><br/><br/>\n",
    "\n",
    "__Wikipedia__:\n",
    "\"Python is an interpreted high-level general-purpose programming language.\"\n",
    "_good article if you'd like to know more:_\n",
    "https://towardsdatascience.com/how-does-python-work-6f21fd197888\n",
    "\n",
    "\n",
    "---\n",
    "- High Level programming language\n",
    "- Formatting included in syntax \n",
    "- Scripting language\n",
    "- Versatile\n",
    "- Sometimes not optimal \n",
    "- Datascience / Machine learning\n",
    "- Documentation: https://www.python.org/doc/\n",
    "\n",
    "\n",
    "<br/><br/>\n",
    "<br/><br/>"
   ]
  },
  {
   "cell_type": "markdown",
   "metadata": {},
   "source": [
    "---"
   ]
  },
  {
   "cell_type": "markdown",
   "metadata": {},
   "source": [
    "# Variables"
   ]
  },
  {
   "cell_type": "code",
   "execution_count": 11,
   "metadata": {},
   "outputs": [],
   "source": [
    "myNumber = 5"
   ]
  },
  {
   "cell_type": "markdown",
   "metadata": {},
   "source": [
    "```myNumber``` Name of variable\n",
    "\n",
    "```5``` Assigned value"
   ]
  },
  {
   "cell_type": "markdown",
   "metadata": {},
   "source": [
    "- Do not use spaces in names of variables"
   ]
  },
  {
   "cell_type": "code",
   "execution_count": 12,
   "metadata": {},
   "outputs": [
    {
     "name": "stdout",
     "output_type": "stream",
     "text": [
      "5\n"
     ]
    }
   ],
   "source": [
    "print(myNumber)"
   ]
  },
  {
   "cell_type": "code",
   "execution_count": 15,
   "metadata": {},
   "outputs": [],
   "source": [
    "myNumber = \"julian\""
   ]
  },
  {
   "cell_type": "code",
   "execution_count": 16,
   "metadata": {},
   "outputs": [
    {
     "name": "stdout",
     "output_type": "stream",
     "text": [
      "julian\n"
     ]
    }
   ],
   "source": [
    "print(myNumber)"
   ]
  },
  {
   "cell_type": "markdown",
   "metadata": {},
   "source": [
    "---"
   ]
  },
  {
   "cell_type": "markdown",
   "metadata": {},
   "source": [
    "# Elementary data types\n",
    "\n",
    "Although python is not a statically typed language, data types are still important. Keep in mind what kind of type the actual variable is, for instance by using clear variable names"
   ]
  },
  {
   "cell_type": "markdown",
   "metadata": {},
   "source": [
    "<br/><br/>\n",
    "```int``` : _integer_ , (whole numbers), ℤ"
   ]
  },
  {
   "cell_type": "code",
   "execution_count": 17,
   "metadata": {},
   "outputs": [],
   "source": [
    "myInt = 5"
   ]
  },
  {
   "cell_type": "markdown",
   "metadata": {},
   "source": [
    "<br/><br/>\n",
    "```float``` : _floating number_ , (real numbers), ℝ"
   ]
  },
  {
   "cell_type": "code",
   "execution_count": 18,
   "metadata": {},
   "outputs": [],
   "source": [
    "myFloat = 5.12"
   ]
  },
  {
   "cell_type": "markdown",
   "metadata": {},
   "source": [
    "<br/><br/>\n",
    "```bool``` : _boolean_ , (true/false)"
   ]
  },
  {
   "cell_type": "code",
   "execution_count": 1,
   "metadata": {},
   "outputs": [],
   "source": [
    "myBool = True"
   ]
  },
  {
   "cell_type": "markdown",
   "metadata": {},
   "source": [
    "<br/><br/>\n",
    "```char``` : _character_\n",
    "\n",
    "_any single symbol between ```' '``` or ```\" \"``` is a character_"
   ]
  },
  {
   "cell_type": "code",
   "execution_count": 25,
   "metadata": {},
   "outputs": [],
   "source": [
    "myChar = 'a'"
   ]
  },
  {
   "cell_type": "markdown",
   "metadata": {},
   "source": [
    "<br/><br/>\n",
    "```string``` : _sequence of characters_\n",
    "\n",
    "_any sequence of symbols between ```' '``` or ```\" \"``` is a character_"
   ]
  },
  {
   "cell_type": "code",
   "execution_count": 2,
   "metadata": {},
   "outputs": [],
   "source": [
    "myString = \"Hello World!\""
   ]
  },
  {
   "cell_type": "markdown",
   "metadata": {},
   "source": [
    "---\n",
    "# Logic operators"
   ]
  },
  {
   "cell_type": "markdown",
   "metadata": {},
   "source": [
    "<br/><br/>\n",
    "``` == ``` : Equals"
   ]
  },
  {
   "cell_type": "code",
   "execution_count": 4,
   "metadata": {},
   "outputs": [
    {
     "name": "stdout",
     "output_type": "stream",
     "text": [
      "False\n"
     ]
    }
   ],
   "source": [
    "myBool = False == True\n",
    "print(myBool)"
   ]
  },
  {
   "cell_type": "markdown",
   "metadata": {},
   "source": [
    "<br/><br/>\n",
    "``` and ``` : And"
   ]
  },
  {
   "cell_type": "code",
   "execution_count": 6,
   "metadata": {},
   "outputs": [
    {
     "name": "stdout",
     "output_type": "stream",
     "text": [
      "False\n"
     ]
    }
   ],
   "source": [
    "myBool = False and True\n",
    "print(myBool)"
   ]
  },
  {
   "cell_type": "markdown",
   "metadata": {},
   "source": [
    "<br/><br/>\n",
    "``` or ``` : Or"
   ]
  },
  {
   "cell_type": "code",
   "execution_count": 47,
   "metadata": {},
   "outputs": [
    {
     "name": "stdout",
     "output_type": "stream",
     "text": [
      "True\n"
     ]
    }
   ],
   "source": [
    "myBool = True or True\n",
    "print(myBool)"
   ]
  },
  {
   "cell_type": "markdown",
   "metadata": {},
   "source": [
    "<br/><br/>\n",
    "``` not ``` : Not"
   ]
  },
  {
   "cell_type": "code",
   "execution_count": 49,
   "metadata": {
    "scrolled": true
   },
   "outputs": [
    {
     "name": "stdout",
     "output_type": "stream",
     "text": [
      "False\n"
     ]
    }
   ],
   "source": [
    "myBool = not True\n",
    "print(myBool)"
   ]
  },
  {
   "cell_type": "markdown",
   "metadata": {},
   "source": [
    "<br/><br/>\n",
    "``` != ``` : Not Equals"
   ]
  },
  {
   "cell_type": "code",
   "execution_count": 50,
   "metadata": {
    "scrolled": true
   },
   "outputs": [
    {
     "name": "stdout",
     "output_type": "stream",
     "text": [
      "True\n"
     ]
    }
   ],
   "source": [
    "myBool = True != False\n",
    "print(myBool)"
   ]
  },
  {
   "cell_type": "code",
   "execution_count": 51,
   "metadata": {},
   "outputs": [
    {
     "data": {
      "text/plain": [
       "True"
      ]
     },
     "execution_count": 51,
     "metadata": {},
     "output_type": "execute_result"
    }
   ],
   "source": [
    "not(True == False)"
   ]
  },
  {
   "cell_type": "code",
   "execution_count": 52,
   "metadata": {},
   "outputs": [
    {
     "data": {
      "text/plain": [
       "True"
      ]
     },
     "execution_count": 52,
     "metadata": {},
     "output_type": "execute_result"
    }
   ],
   "source": [
    "True == True"
   ]
  },
  {
   "cell_type": "markdown",
   "metadata": {},
   "source": [
    "---\n",
    "<br/><br/>\n",
    "<br/><br/>\n",
    "## Order Operators\n"
   ]
  },
  {
   "cell_type": "markdown",
   "metadata": {},
   "source": [
    "```==``` : Equals"
   ]
  },
  {
   "cell_type": "code",
   "execution_count": 56,
   "metadata": {},
   "outputs": [
    {
     "data": {
      "text/plain": [
       "False"
      ]
     },
     "execution_count": 56,
     "metadata": {},
     "output_type": "execute_result"
    }
   ],
   "source": [
    "2987987987==2987987989"
   ]
  },
  {
   "cell_type": "markdown",
   "metadata": {},
   "source": [
    "```!=``` : Not Equals"
   ]
  },
  {
   "cell_type": "code",
   "execution_count": 58,
   "metadata": {},
   "outputs": [
    {
     "data": {
      "text/plain": [
       "False"
      ]
     },
     "execution_count": 58,
     "metadata": {},
     "output_type": "execute_result"
    }
   ],
   "source": [
    "1!=1"
   ]
  },
  {
   "cell_type": "markdown",
   "metadata": {},
   "source": [
    "```<``` : Less than"
   ]
  },
  {
   "cell_type": "code",
   "execution_count": 66,
   "metadata": {},
   "outputs": [
    {
     "data": {
      "text/plain": [
       "False"
      ]
     },
     "execution_count": 66,
     "metadata": {},
     "output_type": "execute_result"
    }
   ],
   "source": [
    "2<2"
   ]
  },
  {
   "cell_type": "markdown",
   "metadata": {},
   "source": [
    "```>``` : Greater than"
   ]
  },
  {
   "cell_type": "code",
   "execution_count": 64,
   "metadata": {},
   "outputs": [
    {
     "data": {
      "text/plain": [
       "True"
      ]
     },
     "execution_count": 64,
     "metadata": {},
     "output_type": "execute_result"
    }
   ],
   "source": [
    "3>2"
   ]
  },
  {
   "cell_type": "markdown",
   "metadata": {},
   "source": [
    "```<=``` : Less than or equal"
   ]
  },
  {
   "cell_type": "code",
   "execution_count": 69,
   "metadata": {},
   "outputs": [
    {
     "data": {
      "text/plain": [
       "False"
      ]
     },
     "execution_count": 69,
     "metadata": {},
     "output_type": "execute_result"
    }
   ],
   "source": [
    "2.01<=2"
   ]
  },
  {
   "cell_type": "markdown",
   "metadata": {},
   "source": [
    "```>=``` : Greater than or equal"
   ]
  },
  {
   "cell_type": "code",
   "execution_count": 70,
   "metadata": {},
   "outputs": [
    {
     "data": {
      "text/plain": [
       "False"
      ]
     },
     "execution_count": 70,
     "metadata": {},
     "output_type": "execute_result"
    }
   ],
   "source": [
    "1>=2"
   ]
  },
  {
   "cell_type": "markdown",
   "metadata": {},
   "source": [
    "---\n",
    "<br/><br/>\n",
    "# Text based operations\n",
    "## Write some text\n",
    "\n",
    "```print()```"
   ]
  },
  {
   "cell_type": "markdown",
   "metadata": {},
   "source": [
    "---\n",
    "## Read some text\n",
    "\n",
    "```input()```"
   ]
  },
  {
   "cell_type": "markdown",
   "metadata": {},
   "source": [
    "---\n",
    "## Combine strings\n",
    "\n",
    "Concatenating strings together can simply be done by addition through the ```+``` operator.\n",
    "\n",
    "_Notice how operators can operate on different types!_"
   ]
  },
  {
   "cell_type": "code",
   "execution_count": 74,
   "metadata": {},
   "outputs": [
    {
     "name": "stdout",
     "output_type": "stream",
     "text": [
      "Some String\n"
     ]
    }
   ],
   "source": [
    "stringA = \"Some\"\n",
    "stringB = \"String\"\n",
    "phrase = stringA + ' ' + stringB\n",
    "\n",
    "print(phrase)"
   ]
  },
  {
   "cell_type": "markdown",
   "metadata": {},
   "source": [
    "_Since strings are essentially arrays of characters, ```+``` can also be used to add characters to strings:_"
   ]
  },
  {
   "cell_type": "code",
   "execution_count": 75,
   "metadata": {},
   "outputs": [
    {
     "name": "stdout",
     "output_type": "stream",
     "text": [
      "Hello world!\n"
     ]
    }
   ],
   "source": [
    "print(\"Hello\" + ' ' + \"world\" + '!')"
   ]
  },
  {
   "cell_type": "markdown",
   "metadata": {},
   "source": [
    "_In python there is actually no real distinction between notation of string and characters:_"
   ]
  },
  {
   "cell_type": "code",
   "execution_count": 76,
   "metadata": {},
   "outputs": [
    {
     "name": "stdout",
     "output_type": "stream",
     "text": [
      "hello\n"
     ]
    }
   ],
   "source": [
    "helloText = 'hello'\n",
    "print(helloText)"
   ]
  },
  {
   "cell_type": "code",
   "execution_count": 82,
   "metadata": {},
   "outputs": [
    {
     "name": "stdout",
     "output_type": "stream",
     "text": [
      "julian said 'there is no real difference between them'\n"
     ]
    }
   ],
   "source": [
    "print(\"julian said 'there is no real difference between them'\")"
   ]
  },
  {
   "cell_type": "markdown",
   "metadata": {},
   "source": [
    "_As said before, python is not a statically typed language, but types still matter:_"
   ]
  },
  {
   "cell_type": "code",
   "execution_count": 77,
   "metadata": {},
   "outputs": [
    {
     "ename": "TypeError",
     "evalue": "can only concatenate str (not \"int\") to str",
     "output_type": "error",
     "traceback": [
      "\u001b[0;31m---------------------------------------------------------------------------\u001b[0m",
      "\u001b[0;31mTypeError\u001b[0m                                 Traceback (most recent call last)",
      "Cell \u001b[0;32mIn[77], line 1\u001b[0m\n\u001b[0;32m----> 1\u001b[0m \u001b[38;5;28mprint\u001b[39m(\u001b[38;5;124m\"\u001b[39m\u001b[38;5;124mThere are \u001b[39m\u001b[38;5;124m\"\u001b[39m \u001b[38;5;241m+\u001b[39m \u001b[38;5;241m100\u001b[39m \u001b[38;5;241m+\u001b[39m \u001b[38;5;124m\"\u001b[39m\u001b[38;5;124mStudents\u001b[39m\u001b[38;5;124m\"\u001b[39m)\n",
      "\u001b[0;31mTypeError\u001b[0m: can only concatenate str (not \"int\") to str"
     ]
    }
   ],
   "source": [
    "print(\"There are \" + 100 + \"Students\")"
   ]
  },
  {
   "cell_type": "markdown",
   "metadata": {},
   "source": [
    "_So types can be translated from one to another_"
   ]
  },
  {
   "cell_type": "code",
   "execution_count": 83,
   "metadata": {},
   "outputs": [
    {
     "name": "stdout",
     "output_type": "stream",
     "text": [
      "There are 100 Students\n"
     ]
    }
   ],
   "source": [
    "print(\"There are \" + str(100) + \" Students\")"
   ]
  },
  {
   "cell_type": "markdown",
   "metadata": {},
   "source": [
    "_and vice versa_"
   ]
  },
  {
   "cell_type": "code",
   "execution_count": 84,
   "metadata": {},
   "outputs": [
    {
     "ename": "TypeError",
     "evalue": "unsupported operand type(s) for +: 'int' and 'str'",
     "output_type": "error",
     "traceback": [
      "\u001b[0;31m---------------------------------------------------------------------------\u001b[0m",
      "\u001b[0;31mTypeError\u001b[0m                                 Traceback (most recent call last)",
      "Cell \u001b[0;32mIn[84], line 1\u001b[0m\n\u001b[0;32m----> 1\u001b[0m \u001b[38;5;28mprint\u001b[39m(\u001b[38;5;241m100\u001b[39m \u001b[38;5;241m+\u001b[39m \u001b[38;5;124m'\u001b[39m\u001b[38;5;124m50\u001b[39m\u001b[38;5;124m'\u001b[39m)\n",
      "\u001b[0;31mTypeError\u001b[0m: unsupported operand type(s) for +: 'int' and 'str'"
     ]
    }
   ],
   "source": [
    "print(100 + '50')"
   ]
  },
  {
   "cell_type": "markdown",
   "metadata": {},
   "source": [
    "_So:_"
   ]
  },
  {
   "cell_type": "code",
   "execution_count": 85,
   "metadata": {},
   "outputs": [
    {
     "name": "stdout",
     "output_type": "stream",
     "text": [
      "150\n"
     ]
    }
   ],
   "source": [
    "print(100 + int('50'))"
   ]
  },
  {
   "cell_type": "markdown",
   "metadata": {},
   "source": [
    "_Read input_"
   ]
  },
  {
   "cell_type": "code",
   "execution_count": 49,
   "metadata": {},
   "outputs": [
    {
     "name": "stdout",
     "output_type": "stream",
     "text": [
      "789\n"
     ]
    }
   ],
   "source": [
    "user_input = input()"
   ]
  },
  {
   "cell_type": "code",
   "execution_count": 8,
   "metadata": {},
   "outputs": [
    {
     "name": "stdout",
     "output_type": "stream",
     "text": [
      "666\n"
     ]
    }
   ],
   "source": [
    "print(user_input)"
   ]
  },
  {
   "cell_type": "markdown",
   "metadata": {},
   "source": [
    "---\n",
    "## Short note on Jupyter Notebooks\n",
    "\n",
    "Very useful for making documents with code in it. Alternating between text cells (\"Markdown\") and code cells. \n",
    "\n",
    "__Whilst a notebook is running, variables will be stored accross cells__"
   ]
  },
  {
   "cell_type": "code",
   "execution_count": 9,
   "metadata": {
    "scrolled": true
   },
   "outputs": [
    {
     "ename": "NameError",
     "evalue": "name 'stringA' is not defined",
     "output_type": "error",
     "traceback": [
      "\u001b[1;31m---------------------------------------------------------------------------\u001b[0m",
      "\u001b[1;31mNameError\u001b[0m                                 Traceback (most recent call last)",
      "Cell \u001b[1;32mIn[9], line 1\u001b[0m\n\u001b[1;32m----> 1\u001b[0m \u001b[38;5;28mprint\u001b[39m(\u001b[43mstringA\u001b[49m)\n",
      "\u001b[1;31mNameError\u001b[0m: name 'stringA' is not defined"
     ]
    }
   ],
   "source": [
    "print(stringA)"
   ]
  },
  {
   "cell_type": "markdown",
   "metadata": {},
   "source": [
    "Contrary to a jupyter notebook where the code is run within cells, you can also create ```.py``` files which can be run from the command line.\n",
    "\n",
    "https://realpython.com/run-python-scripts/"
   ]
  },
  {
   "cell_type": "markdown",
   "metadata": {},
   "source": [
    "---\n",
    "<br/><br/>\n",
    "# Conditions\n"
   ]
  },
  {
   "cell_type": "markdown",
   "metadata": {},
   "source": [
    "<br/><br/>\n",
    "```if```: Test if something fulfills a boolean statement\n",
    "\n",
    "```python\n",
    "if booleanStatement:\n",
    "    execute_this\n",
    "    and_this\n",
    "    .\n",
    "    .\n",
    "\n",
    "```"
   ]
  },
  {
   "cell_type": "code",
   "execution_count": 10,
   "metadata": {},
   "outputs": [],
   "source": [
    "if 2 < 2:\n",
    "    print(\"The Condition is True\")"
   ]
  },
  {
   "cell_type": "markdown",
   "metadata": {},
   "source": [
    "```if```: the if condition\n",
    "\n",
    "```1<2```: the condition\n",
    "\n",
    "```:```: signifies end of condition and start of indent block\n",
    "\n",
    "```.    print(...)```: any code indented is within the condition\n",
    "\n",
    "In python there are no {} used for this, instead indentation is key!!\n",
    "\n",
    "Everything indented after the ```:``` is part of the statements, and will be executed if the condition holds\n"
   ]
  },
  {
   "cell_type": "code",
   "execution_count": 11,
   "metadata": {},
   "outputs": [
    {
     "name": "stdout",
     "output_type": "stream",
     "text": [
      "the statement is true\n",
      "still part of the condition\n",
      "not part of it\n"
     ]
    }
   ],
   "source": [
    "someBoolean = True\n",
    "\n",
    "if someBoolean:\n",
    "    print('the statement is true')\n",
    "    print('still part of the condition')\n",
    "print('not part of it')"
   ]
  },
  {
   "cell_type": "markdown",
   "metadata": {},
   "source": [
    "<br/><br/>\n",
    "```else```: Used in combination with if, and defines what to do in case the if condition is false."
   ]
  },
  {
   "cell_type": "code",
   "execution_count": 109,
   "metadata": {},
   "outputs": [
    {
     "name": "stdout",
     "output_type": "stream",
     "text": [
      "The Condition is False\n"
     ]
    }
   ],
   "source": [
    "if(1 > 1):\n",
    "    print(\"The Condition is True\")\n",
    "else:\n",
    "    print(\"The Condition is False\")"
   ]
  },
  {
   "cell_type": "markdown",
   "metadata": {},
   "source": [
    "<br/><br/>\n",
    "```elif```: Combination of if else for multiple conditions"
   ]
  },
  {
   "cell_type": "code",
   "execution_count": 112,
   "metadata": {},
   "outputs": [
    {
     "name": "stdout",
     "output_type": "stream",
     "text": [
      "number 1 and number 2 are equal\n"
     ]
    }
   ],
   "source": [
    "n1 = 3\n",
    "n2 = 3\n",
    "\n",
    "if n1<n2:\n",
    "    print('number 1 is smaller than number 2')\n",
    "elif n1 > n2:\n",
    "    print('number 1 is larger than number 2')\n",
    "else:\n",
    "    print('number 1 and number 2 are equal')"
   ]
  },
  {
   "cell_type": "markdown",
   "metadata": {},
   "source": [
    "<br/><br/>\n",
    "_keep in mind, as long as there is an indent the statements can be as long and elaborate as you want_"
   ]
  },
  {
   "cell_type": "code",
   "execution_count": 18,
   "metadata": {},
   "outputs": [
    {
     "name": "stdout",
     "output_type": "stream",
     "text": [
      "n is negative\n",
      "I could test if this is also negative odd or even, but then I should really just write a better algorithm :)\n"
     ]
    }
   ],
   "source": [
    "n = -7\n",
    "\n",
    "if(n>0):\n",
    "    if(n%2 == 0):\n",
    "        print(\"n is an even positive number\")\n",
    "    else:\n",
    "        print(\"n is an odd positive number\")\n",
    "else:\n",
    "    print('n is negative')\n",
    "    print('I could test if this is also negative odd or even, but then I should really just write a better algorithm :)')"
   ]
  },
  {
   "cell_type": "code",
   "execution_count": 16,
   "metadata": {},
   "outputs": [
    {
     "data": {
      "text/plain": [
       "2"
      ]
     },
     "execution_count": 16,
     "metadata": {},
     "output_type": "execute_result"
    }
   ],
   "source": [
    "102%10"
   ]
  },
  {
   "cell_type": "markdown",
   "metadata": {},
   "source": [
    "<br/><br/>\n",
    "__As long as there is a condition between ```if``` and ```:``` it is valid__\n",
    "\n",
    "_So any type of order or logic operation is valid, or multiple combinations thereof:_\n",
    "\n",
    "```1 == 2```\n",
    "```boolA and boolB```\n",
    "```boolA or boolB```\n",
    "```not someBool```"
   ]
  },
  {
   "cell_type": "markdown",
   "metadata": {},
   "source": [
    "<font color='red'>Which one is different and why?</font>"
   ]
  },
  {
   "cell_type": "markdown",
   "metadata": {},
   "source": [
    "---\n",
    "<br/><br/>\n",
    "# Loops\n"
   ]
  },
  {
   "cell_type": "markdown",
   "metadata": {},
   "source": [
    "<br/><br/>\n",
    "__While__: Keep on performing a statement until a condition is not true anymore\n",
    "\n",
    "```python\n",
    "while(someBoolean):\n",
    "    someStatement\n",
    "```\n",
    "\n",
    "```someBoolean``` : The condition that needs to be satisfied at the start of each iteration\n",
    "\n",
    "```someStatement``` : What needs to be done each time  the condition is true"
   ]
  },
  {
   "cell_type": "code",
   "execution_count": 190,
   "metadata": {},
   "outputs": [
    {
     "name": "stdout",
     "output_type": "stream",
     "text": [
      "number 1 in still smaller\n",
      "0\n",
      "current value of n1: 2\n",
      "current value of n2: 3\n",
      " \n",
      "number 1 in still smaller\n",
      "2\n",
      "current value of n1: 4\n",
      "current value of n2: 3\n",
      " \n",
      "n1 is not smaller than n2 anymore:4, 3\n"
     ]
    }
   ],
   "source": [
    "n1 = 0\n",
    "n2 = 3\n",
    "\n",
    "while (n1 < n2):\n",
    "    print('number 1 in still smaller')\n",
    "    print(n1)\n",
    "    n1+=2\n",
    "    print('current value of n1: ' + str(n1))\n",
    "    print('current value of n2: ' + str(n2))\n",
    "    print(' ')\n",
    "print('n1 is not smaller than n2 anymore:' + str(n1) + ', ' + str(n2))"
   ]
  },
  {
   "cell_type": "markdown",
   "metadata": {},
   "source": [
    "__Be careful for infinite loops!! if the conditions remains true forever, the loop will also go on forever.__"
   ]
  },
  {
   "cell_type": "code",
   "execution_count": 191,
   "metadata": {},
   "outputs": [
    {
     "name": "stdout",
     "output_type": "stream",
     "text": [
      "0\n",
      "1\n",
      "1\n",
      "2\n",
      "3\n",
      "5\n",
      "8\n",
      "13\n",
      "21\n",
      "34\n"
     ]
    }
   ],
   "source": [
    "n1 = 0\n",
    "n2 = 1\n",
    "\n",
    "while n1<50:\n",
    "    print(n1)\n",
    "    m = n1 + n2\n",
    "    n1 = n2\n",
    "    n2 = m"
   ]
  },
  {
   "cell_type": "markdown",
   "metadata": {},
   "source": [
    "\n",
    "---\n",
    "<br/><br/>\n",
    "__For__: iterate over a sequence\n",
    "\n",
    "```python\n",
    "for x in sequence:\n",
    "    someStatement\n",
    "```\n",
    "\n",
    "```x``` : the iterator variable\n",
    "\n",
    "```sequence``` : some sort of sequential data structure, such as a list, tuple, dictionary, set or a string\n",
    "\n",
    "```someStatement```: the statement that is to be performed, usually making use of ```x```"
   ]
  },
  {
   "cell_type": "code",
   "execution_count": 192,
   "metadata": {},
   "outputs": [
    {
     "name": "stdout",
     "output_type": "stream",
     "text": [
      "0\n",
      "1\n",
      "2\n",
      "3\n",
      "4\n",
      "5\n",
      "6\n",
      "7\n",
      "8\n",
      "9\n"
     ]
    }
   ],
   "source": [
    "for i in range(10):\n",
    "    print(i)"
   ]
  },
  {
   "cell_type": "code",
   "execution_count": 198,
   "metadata": {},
   "outputs": [
    {
     "name": "stdout",
     "output_type": "stream",
     "text": [
      "s\n",
      "o\n",
      "m\n",
      "e\n",
      " \n",
      "S\n",
      "t\n",
      "r\n",
      "i\n",
      "n\n",
      "g\n"
     ]
    }
   ],
   "source": [
    "for char in 'some String':\n",
    "    print(char)"
   ]
  },
  {
   "cell_type": "code",
   "execution_count": 201,
   "metadata": {},
   "outputs": [
    {
     "name": "stdout",
     "output_type": "stream",
     "text": [
      "apple\n",
      "pear\n",
      "banana\n"
     ]
    }
   ],
   "source": [
    "for fruit in ['apple', 'pear', 'banana']:\n",
    "    print(fruit)"
   ]
  },
  {
   "cell_type": "code",
   "execution_count": 195,
   "metadata": {},
   "outputs": [
    {
     "name": "stdout",
     "output_type": "stream",
     "text": [
      "a\n",
      "p\n",
      "p\n",
      "l\n",
      "e\n",
      "apple\n",
      "---------\n",
      "p\n",
      "e\n",
      "a\n",
      "r\n",
      "pear\n",
      "---------\n",
      "b\n",
      "a\n",
      "n\n",
      "a\n",
      "n\n",
      "a\n",
      "banana\n",
      "---------\n"
     ]
    }
   ],
   "source": [
    "for fruit in ['apple', 'pear', 'banana']:\n",
    "    for x in fruit:\n",
    "        print(x)\n",
    "    print(fruit)\n",
    "    print('---------')"
   ]
  },
  {
   "cell_type": "markdown",
   "metadata": {},
   "source": [
    "__A bit more on range:__"
   ]
  },
  {
   "cell_type": "markdown",
   "metadata": {},
   "source": [
    "$[v1,v2)$"
   ]
  },
  {
   "cell_type": "code",
   "execution_count": 205,
   "metadata": {},
   "outputs": [
    {
     "name": "stdout",
     "output_type": "stream",
     "text": [
      "5\n",
      "6\n",
      "7\n",
      "8\n",
      "9\n"
     ]
    }
   ],
   "source": [
    "for i in range(5,10):\n",
    "    print(i)"
   ]
  },
  {
   "cell_type": "code",
   "execution_count": 51,
   "metadata": {},
   "outputs": [
    {
     "name": "stdout",
     "output_type": "stream",
     "text": [
      "0\n",
      "3\n",
      "6\n",
      "9\n"
     ]
    }
   ],
   "source": [
    "for i in range(0,10,3):\n",
    "    print(i)"
   ]
  },
  {
   "cell_type": "code",
   "execution_count": 38,
   "metadata": {},
   "outputs": [
    {
     "name": "stdout",
     "output_type": "stream",
     "text": [
      "10\n",
      "9\n",
      "8\n",
      "7\n",
      "6\n",
      "5\n",
      "4\n",
      "3\n",
      "2\n",
      "1\n"
     ]
    }
   ],
   "source": [
    "for i in range(10,0,-1):\n",
    "    print(i)"
   ]
  },
  {
   "cell_type": "code",
   "execution_count": 39,
   "metadata": {},
   "outputs": [
    {
     "name": "stdout",
     "output_type": "stream",
     "text": [
      "5\n",
      "4\n",
      "3\n",
      "2\n"
     ]
    }
   ],
   "source": [
    "for i in range(5,1,-1):\n",
    "    print(i)"
   ]
  },
  {
   "cell_type": "code",
   "execution_count": 210,
   "metadata": {},
   "outputs": [
    {
     "name": "stdout",
     "output_type": "stream",
     "text": [
      "0.0\n",
      "0.5\n",
      "1.0\n",
      "1.5\n",
      "2.0\n",
      "2.5\n",
      "3.0\n",
      "3.5\n",
      "4.0\n",
      "4.5\n"
     ]
    }
   ],
   "source": [
    "for i in range(0,10):\n",
    "    print(i/2)"
   ]
  },
  {
   "cell_type": "code",
   "execution_count": 46,
   "metadata": {},
   "outputs": [
    {
     "data": {
      "text/plain": [
       "range(0, -10)"
      ]
     },
     "execution_count": 46,
     "metadata": {},
     "output_type": "execute_result"
    }
   ],
   "source": [
    "range(-10)"
   ]
  },
  {
   "cell_type": "code",
   "execution_count": 48,
   "metadata": {},
   "outputs": [
    {
     "data": {
      "text/plain": [
       "[-10, -9, -8, -7, -6, -5, -4, -3, -2, -1]"
      ]
     },
     "execution_count": 48,
     "metadata": {},
     "output_type": "execute_result"
    }
   ],
   "source": [
    "list(range(-10,0))"
   ]
  },
  {
   "cell_type": "markdown",
   "metadata": {},
   "source": [
    "<br/><br/>\n",
    "## What's the output of this piece of code??"
   ]
  },
  {
   "cell_type": "code",
   "execution_count": 213,
   "metadata": {},
   "outputs": [
    {
     "name": "stdout",
     "output_type": "stream",
     "text": [
      "1\n",
      "1\n",
      "2\n",
      "3\n",
      "5\n",
      "8\n",
      "13\n",
      "21\n",
      "34\n",
      "55\n",
      "89\n",
      "144\n",
      "233\n",
      "377\n",
      "610\n",
      "987\n",
      "1597\n",
      "2584\n",
      "4181\n",
      "6765\n",
      "10946\n",
      "17711\n",
      "28657\n",
      "46368\n",
      "75025\n",
      "121393\n",
      "196418\n",
      "317811\n",
      "514229\n",
      "832040\n",
      "1346269\n",
      "2178309\n",
      "3524578\n",
      "5702887\n",
      "9227465\n",
      "14930352\n",
      "24157817\n",
      "39088169\n",
      "63245986\n",
      "102334155\n",
      "165580141\n",
      "267914296\n",
      "433494437\n",
      "701408733\n",
      "1134903170\n",
      "1836311903\n",
      "2971215073\n",
      "4807526976\n",
      "7778742049\n",
      "12586269025\n",
      "20365011074\n",
      "32951280099\n",
      "53316291173\n",
      "86267571272\n",
      "139583862445\n",
      "225851433717\n",
      "365435296162\n",
      "591286729879\n",
      "956722026041\n",
      "1548008755920\n"
     ]
    }
   ],
   "source": [
    "a = 0\n",
    "b = 1\n",
    "n = 60\n",
    "\n",
    "for i in range(n):\n",
    "    t = a\n",
    "    a = b\n",
    "    b = t+b\n",
    "    print(a)"
   ]
  },
  {
   "cell_type": "markdown",
   "metadata": {},
   "source": [
    "---\n",
    "<br/><br/>\n",
    "# External resources\n",
    "\n",
    "__Stack Overflow__: https://stackoverflow.com (easier to look for the problem on google and find the stackoverflow link there)\n",
    "\n",
    "__Python documentation__: https://docs.python.org/3.8/"
   ]
  },
  {
   "cell_type": "markdown",
   "metadata": {},
   "source": [
    "---\n",
    "<br/><br/>\n",
    "# For Tomorrow\n",
    "\n",
    "- Install Anaconda\n",
    "- Make a start with the exercises in the ExercisesSession0 folder in \n",
    "https://github.com/JulianBesems/UD_IntroProject_2023/tree/main/0_Introduction\n",
    "\n",
    "# For Wednesday\n",
    "Finish ExercisesSession0 and upload the completed exercises to the GitHub"
   ]
  },
  {
   "cell_type": "markdown",
   "metadata": {},
   "source": [
    "---\n",
    "# Exercise Format\n",
    "For this week a notebook"
   ]
  },
  {
   "cell_type": "markdown",
   "metadata": {},
   "source": [
    "## Run to check if the output is correct!"
   ]
  },
  {
   "cell_type": "markdown",
   "metadata": {},
   "source": [
    "---\n",
    "<br/><br/>\n",
    "# Where can it go wrong?\n",
    "\n",
    "__Runtime Error__ : The algorithm isn't correct  __:(__\n",
    "\n",
    "__Syntax Error__ : The formulation isn't correct  __:)__\n",
    "\n",
    "\n",
    "\n",
    "\n",
    "<img src=\"https://raw.githubusercontent.com/JulianBesems/UD_IntroProject2021/main/2_Algorithms/ImagesSlides2/1_error.png\" alt=\"drawing\" width=\"600\"/><br/><br/>\n",
    "<br/><br/>\n",
    "<br/><br/>\n",
    "\n",
    "----\n",
    "<br/><br/>\n",
    "# Debugging\n",
    "\n",
    "__If the program doesn't do what you want, check along the way:__\n",
    "\n",
    "_Add print statments_ - in python 3:\n",
    "\n",
    "``` print(\"some text\")```"
   ]
  },
  {
   "cell_type": "markdown",
   "metadata": {},
   "source": [
    "# Keep everything in any code file in ENGLISH!! \n",
    "\n",
    "It causes problems if you're using any non roman alphabet characters, also especially in the filenames!! \n",
    "\n",
    "So get used to this. Additionally it's easier to get help :)\n",
    "\n",
    "This also goes for any other programs you will use in the degree. It often happens you will have to send packaged indesign or premiere pro projects, and if file names are in for instance chinese this causes issues if opened on other computers."
   ]
  }
 ],
 "metadata": {
  "kernelspec": {
   "display_name": "Python 3 (ipykernel)",
   "language": "python",
   "name": "python3"
  },
  "language_info": {
   "codemirror_mode": {
    "name": "ipython",
    "version": 3
   },
   "file_extension": ".py",
   "mimetype": "text/x-python",
   "name": "python",
   "nbconvert_exporter": "python",
   "pygments_lexer": "ipython3",
   "version": "3.8.18"
  }
 },
 "nbformat": 4,
 "nbformat_minor": 4
}
