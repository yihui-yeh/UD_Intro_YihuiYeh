{
 "cells": [
  {
   "cell_type": "markdown",
   "id": "cc0ad464",
   "metadata": {},
   "source": [
    "---\n",
    "<br/><br/>\n",
    "<br/><br/>\n",
    "<br/><br/>\n",
    "## Session 1 \n",
    "\n",
    "### Algorithms, Data Structures, Functions\n",
    "\n",
    "_Julian Besems_\n",
    "<br/><br/>\n",
    "<br/><br/>\n",
    "<br/><br/>"
   ]
  },
  {
   "cell_type": "markdown",
   "id": "dbb20e5d",
   "metadata": {},
   "source": [
    "------------------\n",
    "<br/><br/>\n",
    "<br/><br/>\n",
    "<br/><br/>\n",
    "# Concepts\n",
    "- _Algorithm:_ Precise description of what has to be done to arrive to a solution of a specific problem\n",
    "- _Programming language:_ Formalism to denote algorithms in such a way that they can be executed by a computer\n",
    "- _Program:_ An algorithm that can be executed by a computer\n",
    "- _Programming:_ The manufacturing of a program\n",
    "- _Programming environment:_ Tool set to augment human intelligence (you) in programming [Douglas Engelbart]\n",
    "<br/><br/>\n",
    "<br/><br/>\n",
    "<br/><br/>"
   ]
  },
  {
   "cell_type": "markdown",
   "id": "6ec3b0da",
   "metadata": {},
   "source": [
    "----\n",
    "\n",
    "<br/><br/>\n",
    "# Algorithms in daily life"
   ]
  },
  {
   "cell_type": "markdown",
   "id": "1c0d74f9",
   "metadata": {},
   "source": [
    "<img src=\"https://raw.githubusercontent.com/JulianBesems/UD_IntroProject2021/main/2_Algorithms/ImagesSlides2/0_ramen.png\" alt=\"drawing\" width=\"1080\"/>"
   ]
  },
  {
   "cell_type": "markdown",
   "id": "9fc32d0f",
   "metadata": {},
   "source": [
    "\n",
    "\n",
    "### Remarks\n",
    "- Subdivision of alrogithms\n",
    "- sequence is important"
   ]
  },
  {
   "cell_type": "markdown",
   "id": "e253653f",
   "metadata": {},
   "source": [
    "----\n",
    "<br/><br/>\n",
    "# Algorithms and Languages\n",
    "\n",
    "## Algorithms\n",
    "---\n",
    "### Algorithm\n",
    "- Elementary\n",
    "- Compound \n",
    "---\n",
    "_Acts on one or more data objects_\n",
    "\n",
    "---\n",
    "### Data objects\n",
    "- Elementary\n",
    "- Compound\n",
    "\n",
    "---\n",
    "\n",
    "## Languages\n",
    "---\n",
    "### Syntax\n",
    "- When a progam is well-formed\n",
    "\n",
    "### Semantics\n",
    "- What a program does"
   ]
  },
  {
   "cell_type": "markdown",
   "id": "3bd8c96f",
   "metadata": {},
   "source": [
    "----\n",
    "<br/><br/>\n",
    "# Use of a language\n",
    "1. Identify the problem\n",
    "2. Think of an algorithmic approach to solving it\n",
    "3. Formulate it in a programming language\n",
    "\n",
    "<br/> <br/>\n",
    "_Not too dissimular from architectural language of technical drawing._\n",
    "- Identify design problem\n",
    "- Develop an approach through sketching\n",
    "- Formulate the design in technical drawings like sections and plans"
   ]
  },
  {
   "cell_type": "markdown",
   "id": "19807be0",
   "metadata": {},
   "source": [
    "---\n",
    "<br/><br/>\n",
    "<br/><br/>\n",
    "<br/><br/>\n",
    "# Building blocks for algorithms"
   ]
  },
  {
   "cell_type": "markdown",
   "id": "d5124f0e",
   "metadata": {},
   "source": [
    "__Variables__"
   ]
  },
  {
   "cell_type": "code",
   "execution_count": 6,
   "id": "5a4223c6",
   "metadata": {},
   "outputs": [],
   "source": [
    "myVariable = 2**28"
   ]
  },
  {
   "cell_type": "code",
   "execution_count": 7,
   "id": "935db1b4",
   "metadata": {},
   "outputs": [
    {
     "data": {
      "text/plain": [
       "268435456"
      ]
     },
     "execution_count": 7,
     "metadata": {},
     "output_type": "execute_result"
    }
   ],
   "source": [
    "myVariable"
   ]
  },
  {
   "cell_type": "markdown",
   "id": "5e253977",
   "metadata": {},
   "source": [
    "__Operators__"
   ]
  },
  {
   "cell_type": "code",
   "execution_count": 3,
   "id": "1b94e4f2",
   "metadata": {},
   "outputs": [
    {
     "data": {
      "text/plain": [
       "False"
      ]
     },
     "execution_count": 3,
     "metadata": {},
     "output_type": "execute_result"
    }
   ],
   "source": [
    "myVariable < 1000"
   ]
  },
  {
   "cell_type": "markdown",
   "id": "b9be1046",
   "metadata": {},
   "source": [
    "__Conditions__"
   ]
  },
  {
   "cell_type": "code",
   "execution_count": 4,
   "id": "32a9df27",
   "metadata": {},
   "outputs": [
    {
     "name": "stdout",
     "output_type": "stream",
     "text": [
      "my variable is pretty big\n"
     ]
    }
   ],
   "source": [
    "if 1000 < myVariable:\n",
    "    print('my variable is pretty big')\n",
    "else:\n",
    "    print('not that large')"
   ]
  },
  {
   "cell_type": "markdown",
   "id": "fc6fba60",
   "metadata": {},
   "source": [
    "__Loops__"
   ]
  },
  {
   "cell_type": "code",
   "execution_count": 8,
   "id": "1f75039f",
   "metadata": {},
   "outputs": [
    {
     "name": "stdout",
     "output_type": "stream",
     "text": [
      "134217728.0\n",
      "67108864.0\n",
      "33554432.0\n",
      "16777216.0\n",
      "8388608.0\n",
      "4194304.0\n",
      "2097152.0\n",
      "1048576.0\n",
      "524288.0\n",
      "262144.0\n",
      "131072.0\n",
      "65536.0\n",
      "32768.0\n",
      "16384.0\n",
      "8192.0\n",
      "4096.0\n",
      "2048.0\n",
      "1024.0\n",
      "512.0\n"
     ]
    }
   ],
   "source": [
    "while 1000 < myVariable:\n",
    "    myVariable = myVariable / 2\n",
    "    print(myVariable)"
   ]
  },
  {
   "cell_type": "markdown",
   "id": "a9777a7e",
   "metadata": {},
   "source": [
    "__Functions__"
   ]
  },
  {
   "cell_type": "code",
   "execution_count": 11,
   "id": "afa41e60",
   "metadata": {},
   "outputs": [],
   "source": [
    "def addOne(x):\n",
    "    return x+100"
   ]
  },
  {
   "cell_type": "code",
   "execution_count": 12,
   "id": "5c99bf70",
   "metadata": {},
   "outputs": [
    {
     "name": "stdout",
     "output_type": "stream",
     "text": [
      "104\n"
     ]
    }
   ],
   "source": [
    "print(addOne(4))"
   ]
  },
  {
   "cell_type": "markdown",
   "id": "7763c2e9",
   "metadata": {},
   "source": [
    "__Classes__"
   ]
  },
  {
   "cell_type": "code",
   "execution_count": 24,
   "id": "84af82bb",
   "metadata": {},
   "outputs": [],
   "source": [
    "class Car:\n",
    "    def __init__(self, colour):\n",
    "        self.colour = colour\n",
    "        self.speed = 0\n",
    "    \n",
    "    def accellerate(self, s):\n",
    "        self.speed += s"
   ]
  },
  {
   "cell_type": "code",
   "execution_count": 26,
   "id": "71585157",
   "metadata": {},
   "outputs": [],
   "source": [
    "myCar = Car('blue')"
   ]
  },
  {
   "cell_type": "code",
   "execution_count": 32,
   "id": "88b2ad23",
   "metadata": {},
   "outputs": [],
   "source": [
    "myCar.accellerate(-10)"
   ]
  },
  {
   "cell_type": "code",
   "execution_count": 33,
   "id": "fc8e06fe",
   "metadata": {},
   "outputs": [
    {
     "data": {
      "text/plain": [
       "20"
      ]
     },
     "execution_count": 33,
     "metadata": {},
     "output_type": "execute_result"
    }
   ],
   "source": [
    "myCar.speed"
   ]
  },
  {
   "cell_type": "markdown",
   "id": "d7ca9f75",
   "metadata": {},
   "source": [
    "---\n",
    "<br/><br/>\n",
    "<br/><br/>\n",
    "<br/><br/>\n",
    "# Composite variables"
   ]
  },
  {
   "cell_type": "markdown",
   "id": "784574d5",
   "metadata": {},
   "source": [
    "<br/><br/>\n",
    "```string``` : _sequence of characters_\n",
    "\n",
    "_any sequence of symbols between ```' '``` or ```\" \"``` is a character_"
   ]
  },
  {
   "cell_type": "code",
   "execution_count": 34,
   "id": "cb3dba15",
   "metadata": {},
   "outputs": [],
   "source": [
    "myString = \"Hello World!\""
   ]
  },
  {
   "cell_type": "markdown",
   "id": "a7e2bf30",
   "metadata": {},
   "source": [
    "<br/><br/>\n",
    "\n",
    "-----\n",
    "```[]``` : _list_, A data structure that consists of an ordered set of elements. \n"
   ]
  },
  {
   "cell_type": "code",
   "execution_count": 35,
   "id": "e525ade5",
   "metadata": {},
   "outputs": [],
   "source": [
    "numbers = [4,2,3,1,5]"
   ]
  },
  {
   "cell_type": "markdown",
   "id": "018733e3",
   "metadata": {},
   "source": [
    "---\n",
    "<br/><br/>\n",
    "<br/><br/>\n",
    "## Lists\n",
    "\n",
    "<br/><br/>\n"
   ]
  },
  {
   "cell_type": "code",
   "execution_count": 38,
   "id": "6992be43",
   "metadata": {},
   "outputs": [],
   "source": [
    "myList = ['apple', 'banana', 'pear']"
   ]
  },
  {
   "cell_type": "code",
   "execution_count": 47,
   "id": "303a9f12",
   "metadata": {},
   "outputs": [
    {
     "data": {
      "text/plain": [
       "'apple'"
      ]
     },
     "execution_count": 47,
     "metadata": {},
     "output_type": "execute_result"
    }
   ],
   "source": [
    "myList[-3]"
   ]
  },
  {
   "cell_type": "code",
   "execution_count": 60,
   "id": "f1c47e0b",
   "metadata": {},
   "outputs": [],
   "source": [
    "listOfNrs = list(range(1, 10+1))"
   ]
  },
  {
   "cell_type": "code",
   "execution_count": 66,
   "id": "61dfaa2f",
   "metadata": {},
   "outputs": [
    {
     "data": {
      "text/plain": [
       "10"
      ]
     },
     "execution_count": 66,
     "metadata": {},
     "output_type": "execute_result"
    }
   ],
   "source": [
    "len(listOfNrs)"
   ]
  },
  {
   "cell_type": "code",
   "execution_count": 62,
   "id": "5c1173a5",
   "metadata": {},
   "outputs": [
    {
     "data": {
      "text/plain": [
       "[1, 2, 3, 4, 5, 6, 7, 8, 9, 10]"
      ]
     },
     "execution_count": 62,
     "metadata": {},
     "output_type": "execute_result"
    }
   ],
   "source": [
    "listOfNrs"
   ]
  },
  {
   "cell_type": "code",
   "execution_count": 78,
   "id": "094374fb",
   "metadata": {},
   "outputs": [],
   "source": [
    "myList = []"
   ]
  },
  {
   "cell_type": "code",
   "execution_count": 80,
   "id": "0a90609e",
   "metadata": {},
   "outputs": [],
   "source": [
    "myList.append(3)\n",
    "myList.append(1)\n",
    "myList.append(80)"
   ]
  },
  {
   "cell_type": "code",
   "execution_count": 81,
   "id": "8ee81497",
   "metadata": {},
   "outputs": [
    {
     "name": "stdout",
     "output_type": "stream",
     "text": [
      "[3, 1, 80]\n"
     ]
    }
   ],
   "source": [
    "print(myList)"
   ]
  },
  {
   "cell_type": "code",
   "execution_count": 82,
   "id": "7bdbdc37",
   "metadata": {},
   "outputs": [],
   "source": [
    "myList = ['apple', 'banana', 'pear']\n",
    "myList.append(1)"
   ]
  },
  {
   "cell_type": "code",
   "execution_count": 83,
   "id": "3854109d",
   "metadata": {},
   "outputs": [
    {
     "name": "stdout",
     "output_type": "stream",
     "text": [
      "['apple', 'banana', 'pear', 1]\n"
     ]
    }
   ],
   "source": [
    "print(myList)"
   ]
  },
  {
   "cell_type": "markdown",
   "id": "7e8f5a92",
   "metadata": {},
   "source": [
    "_Even in lists python doesn't care about mixing types!!!_\n",
    "__BE CAREFUL!!!__"
   ]
  },
  {
   "cell_type": "code",
   "execution_count": 87,
   "id": "dca33658",
   "metadata": {},
   "outputs": [
    {
     "name": "stdout",
     "output_type": "stream",
     "text": [
      " apple\n",
      " apple banana\n",
      " apple banana pear\n",
      " apple banana pear 1\n"
     ]
    }
   ],
   "source": [
    "myString = ''\n",
    "for fruit in myList:\n",
    "    myString += ' ' + str(fruit)\n",
    "    print(myString)"
   ]
  },
  {
   "cell_type": "code",
   "execution_count": 85,
   "id": "716c2561",
   "metadata": {},
   "outputs": [
    {
     "data": {
      "text/plain": [
       "'applebananapear'"
      ]
     },
     "execution_count": 85,
     "metadata": {},
     "output_type": "execute_result"
    }
   ],
   "source": [
    "myString"
   ]
  },
  {
   "cell_type": "code",
   "execution_count": 92,
   "id": "7782e5e8",
   "metadata": {},
   "outputs": [],
   "source": [
    "twoDlist = [[1,2,3],[4,5,6]]"
   ]
  },
  {
   "cell_type": "code",
   "execution_count": 98,
   "id": "8e299268",
   "metadata": {},
   "outputs": [
    {
     "data": {
      "text/plain": [
       "2"
      ]
     },
     "execution_count": 98,
     "metadata": {},
     "output_type": "execute_result"
    }
   ],
   "source": [
    "twoDlist[0][1]"
   ]
  },
  {
   "cell_type": "code",
   "execution_count": 104,
   "id": "8251fc43",
   "metadata": {},
   "outputs": [
    {
     "name": "stdout",
     "output_type": "stream",
     "text": [
      "apple\n",
      "banana\n",
      "pear\n",
      "1\n"
     ]
    }
   ],
   "source": [
    "for i in myList:\n",
    "    print(i)"
   ]
  },
  {
   "cell_type": "markdown",
   "id": "63ab6746",
   "metadata": {},
   "source": [
    "---\n",
    "<br/><br/>\n",
    "<br/><br/>\n",
    "## Dictionary\n",
    "\n",
    "<br/><br/>\n"
   ]
  },
  {
   "cell_type": "code",
   "execution_count": 99,
   "id": "eb8e3f39",
   "metadata": {},
   "outputs": [],
   "source": [
    "thisDict = {\n",
    "    'brand':'Ford',\n",
    "    'model':'Mustang',\n",
    "    'year':'1964'}"
   ]
  },
  {
   "cell_type": "code",
   "execution_count": 100,
   "id": "feb63bb5",
   "metadata": {},
   "outputs": [
    {
     "data": {
      "text/plain": [
       "'Ford'"
      ]
     },
     "execution_count": 100,
     "metadata": {},
     "output_type": "execute_result"
    }
   ],
   "source": [
    "thisDict['brand']"
   ]
  },
  {
   "cell_type": "code",
   "execution_count": 101,
   "id": "fecec131",
   "metadata": {},
   "outputs": [
    {
     "ename": "KeyError",
     "evalue": "1",
     "output_type": "error",
     "traceback": [
      "\u001b[0;31m---------------------------------------------------------------------------\u001b[0m",
      "\u001b[0;31mKeyError\u001b[0m                                  Traceback (most recent call last)",
      "Cell \u001b[0;32mIn[101], line 1\u001b[0m\n\u001b[0;32m----> 1\u001b[0m thisDict[\u001b[38;5;241m1\u001b[39m]\n",
      "\u001b[0;31mKeyError\u001b[0m: 1"
     ]
    }
   ],
   "source": [
    "thisDict[1]"
   ]
  },
  {
   "cell_type": "code",
   "execution_count": 102,
   "id": "535e9017",
   "metadata": {},
   "outputs": [],
   "source": [
    "thisDict['brand'] = 'Volkswagen'"
   ]
  },
  {
   "cell_type": "code",
   "execution_count": 103,
   "id": "cb619a71",
   "metadata": {},
   "outputs": [
    {
     "data": {
      "text/plain": [
       "'Volkswagen'"
      ]
     },
     "execution_count": 103,
     "metadata": {},
     "output_type": "execute_result"
    }
   ],
   "source": [
    "thisDict['brand']"
   ]
  },
  {
   "cell_type": "code",
   "execution_count": 105,
   "id": "69acfb78",
   "metadata": {},
   "outputs": [
    {
     "name": "stdout",
     "output_type": "stream",
     "text": [
      "brand\n",
      "model\n",
      "year\n"
     ]
    }
   ],
   "source": [
    "for x in thisDict:\n",
    "    print(x)"
   ]
  },
  {
   "cell_type": "code",
   "execution_count": 106,
   "id": "dc97b62d",
   "metadata": {},
   "outputs": [
    {
     "name": "stdout",
     "output_type": "stream",
     "text": [
      "{'brand': 'Volkswagen', 'model': 'Mustang', 'year': '1964'}\n"
     ]
    }
   ],
   "source": [
    "print(thisDict)"
   ]
  },
  {
   "cell_type": "code",
   "execution_count": 109,
   "id": "09ea054d",
   "metadata": {},
   "outputs": [
    {
     "name": "stdout",
     "output_type": "stream",
     "text": [
      "brand Volkswagen\n",
      "model Mustang\n",
      "year 1964\n"
     ]
    }
   ],
   "source": [
    "for x in thisDict:\n",
    "    print(x, thisDict[x])"
   ]
  },
  {
   "cell_type": "code",
   "execution_count": 110,
   "id": "27bd1d4e",
   "metadata": {},
   "outputs": [
    {
     "name": "stdout",
     "output_type": "stream",
     "text": [
      "Volkswagen\n",
      "Mustang\n",
      "1964\n"
     ]
    }
   ],
   "source": [
    "for x in thisDict.values():\n",
    "    print(x)"
   ]
  },
  {
   "cell_type": "code",
   "execution_count": 111,
   "id": "0fca6eff",
   "metadata": {},
   "outputs": [
    {
     "data": {
      "text/plain": [
       "dict_values(['Volkswagen', 'Mustang', '1964'])"
      ]
     },
     "execution_count": 111,
     "metadata": {},
     "output_type": "execute_result"
    }
   ],
   "source": [
    "thisDict.values()"
   ]
  },
  {
   "cell_type": "code",
   "execution_count": 112,
   "id": "c14bccec",
   "metadata": {},
   "outputs": [
    {
     "data": {
      "text/plain": [
       "dict_keys(['brand', 'model', 'year'])"
      ]
     },
     "execution_count": 112,
     "metadata": {},
     "output_type": "execute_result"
    }
   ],
   "source": [
    "thisDict.keys()"
   ]
  },
  {
   "cell_type": "code",
   "execution_count": 123,
   "id": "7b795e0b",
   "metadata": {},
   "outputs": [
    {
     "name": "stdout",
     "output_type": "stream",
     "text": [
      "('brand', 'Volkswagen')\n",
      "('model', 'Mustang')\n",
      "('year', '1964')\n"
     ]
    }
   ],
   "source": [
    "for pair in thisDict.items():\n",
    "    print(pair)"
   ]
  },
  {
   "cell_type": "code",
   "execution_count": 134,
   "id": "bcba8a9c",
   "metadata": {},
   "outputs": [
    {
     "data": {
      "text/plain": [
       "'year'"
      ]
     },
     "execution_count": 134,
     "metadata": {},
     "output_type": "execute_result"
    }
   ],
   "source": [
    "list(thisDict.items())[2][0]"
   ]
  },
  {
   "cell_type": "code",
   "execution_count": 116,
   "id": "0105730e",
   "metadata": {},
   "outputs": [
    {
     "name": "stdout",
     "output_type": "stream",
     "text": [
      "brand Volkswagen\n",
      "model Mustang\n",
      "year 1964\n"
     ]
    }
   ],
   "source": [
    "for x, y in thisDict.items():\n",
    "    print(x, y)"
   ]
  },
  {
   "cell_type": "code",
   "execution_count": 113,
   "id": "a59782c9",
   "metadata": {},
   "outputs": [
    {
     "data": {
      "text/plain": [
       "dict_items([('brand', 'Volkswagen'), ('model', 'Mustang'), ('year', '1964')])"
      ]
     },
     "execution_count": 113,
     "metadata": {},
     "output_type": "execute_result"
    }
   ],
   "source": [
    "thisDict.items()"
   ]
  },
  {
   "cell_type": "code",
   "execution_count": 135,
   "id": "699c0f9d",
   "metadata": {},
   "outputs": [
    {
     "name": "stdout",
     "output_type": "stream",
     "text": [
      "[('brand', 'Volkswagen'), ('model', 'Mustang'), ('year', '1964')]\n"
     ]
    }
   ],
   "source": [
    "print(list(thisDict.items()))"
   ]
  },
  {
   "cell_type": "code",
   "execution_count": 140,
   "id": "da38650e",
   "metadata": {},
   "outputs": [
    {
     "data": {
      "text/plain": [
       "'Volkswagen'"
      ]
     },
     "execution_count": 140,
     "metadata": {},
     "output_type": "execute_result"
    }
   ],
   "source": [
    "items = list(thisDict.items())\n",
    "items[0][1]"
   ]
  },
  {
   "cell_type": "markdown",
   "id": "58676bac",
   "metadata": {},
   "source": [
    "<br/><br/>\n",
    "Adding fields:"
   ]
  },
  {
   "cell_type": "code",
   "execution_count": 156,
   "id": "9f16e514",
   "metadata": {},
   "outputs": [],
   "source": [
    "thisDict['year'] = 120"
   ]
  },
  {
   "cell_type": "code",
   "execution_count": 157,
   "id": "aa316424",
   "metadata": {},
   "outputs": [
    {
     "name": "stdout",
     "output_type": "stream",
     "text": [
      "brand VW\n",
      "model Mustang\n",
      "year 120\n",
      "colour blue\n",
      "speed 120\n"
     ]
    }
   ],
   "source": [
    "for x, y in thisDict.items():\n",
    "    print(x, y)"
   ]
  },
  {
   "cell_type": "markdown",
   "id": "02ec72cd",
   "metadata": {},
   "source": [
    "<br/><br/>\n",
    "Removing fields:"
   ]
  },
  {
   "cell_type": "code",
   "execution_count": 154,
   "id": "5eb54e2e",
   "metadata": {},
   "outputs": [
    {
     "ename": "KeyError",
     "evalue": "'Mustang'",
     "output_type": "error",
     "traceback": [
      "\u001b[0;31m---------------------------------------------------------------------------\u001b[0m",
      "\u001b[0;31mKeyError\u001b[0m                                  Traceback (most recent call last)",
      "Cell \u001b[0;32mIn[154], line 1\u001b[0m\n\u001b[0;32m----> 1\u001b[0m thisDict\u001b[38;5;241m.\u001b[39mpop(\u001b[38;5;124m'\u001b[39m\u001b[38;5;124mMustang\u001b[39m\u001b[38;5;124m'\u001b[39m)\n",
      "\u001b[0;31mKeyError\u001b[0m: 'Mustang'"
     ]
    }
   ],
   "source": [
    "thisDict.pop('Mustang')"
   ]
  },
  {
   "cell_type": "code",
   "execution_count": 153,
   "id": "20fbf92e",
   "metadata": {
    "scrolled": true
   },
   "outputs": [
    {
     "name": "stdout",
     "output_type": "stream",
     "text": [
      "brand VW\n",
      "model Mustang\n",
      "year 1964\n",
      "colour blue\n",
      "speed 120\n"
     ]
    }
   ],
   "source": [
    "for x, y in thisDict.items():\n",
    "    print(x, y)"
   ]
  },
  {
   "cell_type": "markdown",
   "id": "f9e034a2",
   "metadata": {},
   "source": [
    "---\n",
    "<br/><br/>\n",
    "<br/><br/>\n",
    "## Functions\n",
    "\n",
    "<br/><br/>\n",
    "\n",
    "```python\n",
    "def myFunction(arg1, arg2):\n",
    "    someStatements\n",
    "    ...\n",
    "    return someValue\n",
    "```\n",
    "\n",
    "```myFunction``` : Name of the function\n",
    "\n",
    "```arg1, arg2``` : list of argument names\n",
    "\n",
    "```someStatements ...``` : What is done when the function is called\n",
    "\n",
    "```someValue``` : What's returned at the end of the function _(return statement Not Mandatory)_"
   ]
  },
  {
   "cell_type": "code",
   "execution_count": 172,
   "id": "9948ce61",
   "metadata": {},
   "outputs": [],
   "source": [
    "def printFibonacci(upTo):\n",
    "    n1 = 0\n",
    "    n2 = 1\n",
    "\n",
    "    while n1<upTo:\n",
    "        print(n1)\n",
    "        m = n1 + n2\n",
    "        n1 = n2\n",
    "        n2 = m"
   ]
  },
  {
   "cell_type": "code",
   "execution_count": 193,
   "id": "7717b185",
   "metadata": {
    "scrolled": true
   },
   "outputs": [
    {
     "name": "stdout",
     "output_type": "stream",
     "text": [
      "0\n",
      "1\n",
      "1\n",
      "2\n",
      "3\n",
      "5\n",
      "8\n",
      "13\n",
      "21\n",
      "34\n",
      "55\n",
      "89\n",
      "144\n",
      "233\n",
      "377\n",
      "610\n",
      "987\n",
      "1597\n",
      "2584\n",
      "4181\n",
      "6765\n",
      "10946\n",
      "17711\n",
      "28657\n",
      "46368\n",
      "75025\n"
     ]
    }
   ],
   "source": [
    "a = printFibonacci(100000)"
   ]
  },
  {
   "cell_type": "markdown",
   "id": "a9331344",
   "metadata": {},
   "source": [
    "---\n",
    "Use a function to retrieve a certain output depending on a given variable:"
   ]
  },
  {
   "cell_type": "code",
   "execution_count": 174,
   "id": "72cad332",
   "metadata": {},
   "outputs": [],
   "source": [
    "def getFibonacciAbove(number):\n",
    "    number = int(number)\n",
    "    n1 = 0\n",
    "    n2 = 1\n",
    "\n",
    "    while n1<number:\n",
    "        m = n1 + n2\n",
    "        n1 = n2\n",
    "        n2 = m\n",
    "    return n1"
   ]
  },
  {
   "cell_type": "code",
   "execution_count": 185,
   "id": "d99c7737",
   "metadata": {
    "scrolled": true
   },
   "outputs": [
    {
     "name": "stdout",
     "output_type": "stream",
     "text": [
      "0\n",
      "1\n",
      "1\n",
      "2\n",
      "3\n",
      "5\n",
      "8\n",
      "13\n",
      "21\n",
      "34\n",
      "55\n",
      "89\n",
      "144\n",
      "233\n",
      "377\n",
      "610\n",
      "987\n"
     ]
    }
   ],
   "source": [
    "nf = getFibonacciAbove(1000)"
   ]
  },
  {
   "cell_type": "code",
   "execution_count": 186,
   "id": "f2f03a41",
   "metadata": {},
   "outputs": [
    {
     "name": "stdout",
     "output_type": "stream",
     "text": [
      "1597\n"
     ]
    }
   ],
   "source": [
    "print(nf)"
   ]
  },
  {
   "cell_type": "code",
   "execution_count": 190,
   "id": "f64f97c2",
   "metadata": {},
   "outputs": [],
   "source": [
    "def getFibonacciAbove(number):\n",
    "    number = int(number)\n",
    "    n1 = 0\n",
    "    n2 = 1\n",
    "\n",
    "    while n1<number:\n",
    "        print(n1)\n",
    "        m = n1 + n2\n",
    "        n1 = n2\n",
    "        n2 = m\n",
    "    return n1"
   ]
  },
  {
   "cell_type": "code",
   "execution_count": 191,
   "id": "f93057a8",
   "metadata": {},
   "outputs": [
    {
     "name": "stdout",
     "output_type": "stream",
     "text": [
      "0\n",
      "1\n",
      "1\n",
      "2\n",
      "3\n",
      "5\n",
      "8\n",
      "13\n",
      "21\n",
      "34\n",
      "55\n",
      "89\n",
      "144\n",
      "233\n",
      "377\n",
      "610\n",
      "987\n"
     ]
    }
   ],
   "source": [
    "nf = getFibonacciAbove(1000)"
   ]
  },
  {
   "cell_type": "code",
   "execution_count": 192,
   "id": "ffb01381",
   "metadata": {},
   "outputs": [
    {
     "data": {
      "text/plain": [
       "1597"
      ]
     },
     "execution_count": 192,
     "metadata": {},
     "output_type": "execute_result"
    }
   ],
   "source": [
    "nf"
   ]
  },
  {
   "cell_type": "markdown",
   "id": "4377ac58",
   "metadata": {},
   "source": [
    "---\n",
    "<br/><br/>\n",
    "<br/><br/>\n",
    "## Algorithm of Euclid\n",
    "\n",
    "One of the oldest algorithms. It was named after the ancient Greek mathematician Euclid, who described it in around 300 BC. \n",
    "\n",
    "It's an algorithm to find the greatest common divisor (GCD) of two integers. \n",
    "\n",
    "---------\n",
    "\n",
    "It starts with a lemma that:\n",
    "\n",
    "Given 2 natural numbers ($\\mathbb{N}$, positive integers) $n$ and $d$, then there are non-negative whole numbers $q$ and $r$ so that\n",
    "\n",
    "$n = qd+r$\n",
    "\n",
    "where $r$ is smaller than $d$\n"
   ]
  },
  {
   "cell_type": "code",
   "execution_count": 198,
   "id": "552cd2b4",
   "metadata": {},
   "outputs": [
    {
     "data": {
      "text/plain": [
       "2"
      ]
     },
     "execution_count": 198,
     "metadata": {},
     "output_type": "execute_result"
    }
   ],
   "source": [
    "9//4"
   ]
  },
  {
   "cell_type": "code",
   "execution_count": 200,
   "id": "18e3e3b0",
   "metadata": {},
   "outputs": [
    {
     "name": "stdout",
     "output_type": "stream",
     "text": [
      "q: 7\n",
      "r: 10\n",
      "qd+r: 556\n"
     ]
    }
   ],
   "source": [
    "n = 556\n",
    "d = 78\n",
    "\n",
    "q = n//d\n",
    "r = n-q*d\n",
    "\n",
    "print('q: '+str(q))\n",
    "print('r: '+str(r))\n",
    "print('qd+r: '+str(q*d+r))\n"
   ]
  },
  {
   "cell_type": "markdown",
   "id": "7d589a2d",
   "metadata": {},
   "source": [
    "Another way to find $r$ is through the modulo operator ```%```:"
   ]
  },
  {
   "cell_type": "code",
   "execution_count": 201,
   "id": "9ccc8a7f",
   "metadata": {},
   "outputs": [
    {
     "data": {
      "text/plain": [
       "10"
      ]
     },
     "execution_count": 201,
     "metadata": {},
     "output_type": "execute_result"
    }
   ],
   "source": [
    "n%d"
   ]
  },
  {
   "cell_type": "markdown",
   "id": "80ea39f5",
   "metadata": {},
   "source": [
    "Now given $m,n \\in \\mathbb{N}$ and $m>n$ (otherwise swap them around)\n",
    "\n",
    "Then we know that there exist $q,r \\in \\mathbb{Z+}$ so that $m=qn+r$\n",
    "\n",
    "<br/><br/>\n",
    "\n",
    "The crucial step in the algorithm is that following \n",
    "\n",
    "$r = m-qn$ \n",
    "\n",
    "any $d$ for which $d|m$ and $d|n$ then also $d|r$\n",
    "\n",
    "so any $GCD(m,n)$ is equal to $GCD(n,r)$ \n",
    "\n",
    "\n",
    "<br/><br/>\n",
    "\n",
    "So if we can find $GCD(n,r)$ we're done. This is easier since $n,r$ are smaller than $m,n$.\n",
    "\n",
    "There are then two options:\n",
    "\n",
    "- $r=0$ in which case $GCD(n,r)=GCD(n,0)=n$ so $GCD(m,n) = n$\n",
    "    \n",
    "- or $r>0$ in which case we repeat the step to get $q_1, r_1$\n",
    "\n",
    "For instance:\n",
    "\n",
    "$m = qn + r$\n",
    "\n",
    "we take $m=102$ and $n=84$\n",
    "\n",
    "$102 = 1*84 + 18$\n",
    "\n",
    "$84 = 4*18 + 12$\n",
    "\n",
    "$18 = 1*12+6$\n",
    "\n",
    "$12 = 2*6+0$\n",
    "\n",
    "so $GCD(102,84) = 6$"
   ]
  },
  {
   "cell_type": "markdown",
   "id": "fa5fea75",
   "metadata": {},
   "source": [
    "---------"
   ]
  },
  {
   "cell_type": "markdown",
   "id": "3a6f2c7a",
   "metadata": {},
   "source": [
    "<img src=\"https://upload.wikimedia.org/wikipedia/commons/thumb/1/1c/Euclidean_algorithm_1071_462.gif/340px-Euclidean_algorithm_1071_462.gif\" alt=\"drawing\" width=\"200\"/><br/><br/>\n",
    "\n",
    "_Example on wikipedia:_\n",
    "\n",
    "The initial rectangle has dimensions 1071 by 462\n",
    "The smallest square is 21 by 21"
   ]
  },
  {
   "cell_type": "markdown",
   "id": "8a8ddc8a",
   "metadata": {},
   "source": [
    "-----------\n",
    "now in code, we can put this as follows:"
   ]
  },
  {
   "cell_type": "code",
   "execution_count": 206,
   "id": "a96cac31",
   "metadata": {},
   "outputs": [],
   "source": [
    "def euclidGCD(n,r):\n",
    "    while r != 0:\n",
    "        t = r\n",
    "        r = n%r\n",
    "        n = t\n",
    "    return n"
   ]
  },
  {
   "cell_type": "code",
   "execution_count": 208,
   "id": "504ac363",
   "metadata": {},
   "outputs": [
    {
     "name": "stdout",
     "output_type": "stream",
     "text": [
      "1071\n",
      "462\n"
     ]
    },
    {
     "data": {
      "text/plain": [
       "21"
      ]
     },
     "execution_count": 208,
     "metadata": {},
     "output_type": "execute_result"
    }
   ],
   "source": [
    "number1 = int(input())\n",
    "number2 = int(input())\n",
    "a = max(number1, number2)\n",
    "b = min(number1, number2)\n",
    "euclidGCD(a,b)"
   ]
  },
  {
   "cell_type": "markdown",
   "id": "afc123ce",
   "metadata": {},
   "source": [
    "---\n",
    "<br/><br/>\n",
    "<br/><br/>\n",
    "<br/><br/>\n",
    "\n",
    "# Instructing Wall-E\n",
    "<img src=\"https://raw.githubusercontent.com/JulianBesems/UD_IntroProject2021/main/2_Algorithms/ImagesSlides2/2_walle.png\" alt=\"drawing\" width=\"800\"/>\n"
   ]
  },
  {
   "cell_type": "markdown",
   "id": "6dbd4300",
   "metadata": {},
   "source": [
    "\n",
    "<br/><br/>\n",
    "\n",
    "\n",
    "__You’re going to write 5 algorithms for 5 tasks Wall-E needs to complete__\n",
    "\n",
    "<img src=\"wall_eExample.png\" alt=\"drawing\" width=\"1080\"/>"
   ]
  },
  {
   "cell_type": "markdown",
   "id": "c540be3f",
   "metadata": {},
   "source": [
    "## Given actions are:\n",
    "\n",
    "- move()\n",
    "- turn_left()\n",
    "- turn_right()\n",
    "- drop_box()\n",
    "- pick_up_box()\n",
    "\n",
    "All of these are pre-defined functions that perform the action and do not have a return value. "
   ]
  },
  {
   "cell_type": "markdown",
   "id": "e3e07da7",
   "metadata": {},
   "source": [
    "## Given tests are:\n",
    "\n",
    "- check_wall()\n",
    "- check_on_box()\n",
    "\n",
    "All of these functions test the current state of Wall-E and return a boolean value.\n",
    "\n",
    "---"
   ]
  },
  {
   "cell_type": "markdown",
   "id": "9e0f8f21",
   "metadata": {},
   "source": [
    "## The tasks Wall-E needs to perform:\n",
    "\n",
    "- __Walk to the opposite wall, turn around and walk back to the wall where he started__\n",
    "\n",
    "- __Walk a lap around the room__\n",
    "\n",
    "- __Search for a scrap block and pick it up__\n",
    "\n",
    "- __Put down a scrap block on each empty spot and pick all current scrap blocks up__\n",
    "\n",
    "- __Walk around an obstacle.__\n",
    "\n",
    "\n",
    "---"
   ]
  },
  {
   "cell_type": "markdown",
   "id": "88dc652c",
   "metadata": {},
   "source": [
    "<br/> <br/>\n",
    "\n",
    "# Assignments \n",
    "### In Jupyter Notebook:\n",
    "- Define a function that takes an integer as input, prints  all integers that it is divisable by, and returns the largest one. \n",
    "\n",
    "### in the WallE.py file:\n",
    "__Use if, else, variable and function declarations to write 5 algorithms for Wall-E:__\n",
    "\n",
    "- __Walk to the opposite wall, turn around and walk back to the wall where he started__\n",
    "\n",
    "- __Walk a lap around the room__\n",
    "\n",
    "- __Search for a scrap block and pick it up__\n",
    "\n",
    "- __Put down a scrap block on each empty spot and pick all current scrap blocks up__\n",
    "\n",
    "- __Walk around an obstacle.__"
   ]
  },
  {
   "cell_type": "markdown",
   "id": "032a7ecd",
   "metadata": {},
   "source": [
    "## First install the pygame library\n",
    "https://www.pygame.org/wiki/GettingStarted\n",
    "\n",
    "### MAKE SURE YOU ARE IN THE python 3.8 ENVIRONMENT YOU MADE BEFORE THIS\n",
    "### Then run this:\n",
    "`pip install pygame`"
   ]
  },
  {
   "cell_type": "markdown",
   "id": "1a789ab9",
   "metadata": {},
   "source": [
    "## _You can run the Wall-E game by running the cell below_"
   ]
  },
  {
   "cell_type": "code",
   "execution_count": 210,
   "id": "7d43d188",
   "metadata": {},
   "outputs": [
    {
     "name": "stdout",
     "output_type": "stream",
     "text": [
      "pygame 2.5.2 (SDL 2.28.3, Python 3.11.5)\n",
      "Hello from the pygame community. https://www.pygame.org/contribute.html\n",
      "<VideoInfo(hw = 0, wm = 1,video_mem = 0\n",
      "         blit_hw = 0, blit_hw_CC = 0, blit_hw_A = 0,\n",
      "         blit_sw = 0, blit_sw_CC = 0, blit_sw_A = 0,\n",
      "         bitsize  = 32, bytesize = 4,\n",
      "         masks =  (0x00ff0000, 0x0000ff00, 0x000000ff, 0xff000000),\n",
      "         shifts = (16, 8, 0, 24),\n",
      "         losses =  (0, 0, 0, 0),\n",
      "         current_w = 2056, current_h = 1329\n",
      "         pixel_format = SDL_PIXELFORMAT_ARGB8888)\n",
      ">\n",
      "Traceback (most recent call last):\n",
      "  File \"/Users/julianbesems/Documents/Work/UCL/UD_IntroNoCommit_23/1_Algorithms/Wall_E/wall_eGame.py\", line 114, in <module>\n",
      "    sys.exit()\n",
      "    ^^^\n",
      "NameError: name 'sys' is not defined\n"
     ]
    }
   ],
   "source": [
    "!python Wall_E/wall_eGame.py"
   ]
  },
  {
   "cell_type": "code",
   "execution_count": null,
   "id": "6a884a61",
   "metadata": {},
   "outputs": [],
   "source": []
  }
 ],
 "metadata": {
  "kernelspec": {
   "display_name": "Python 3 (ipykernel)",
   "language": "python",
   "name": "python3"
  },
  "language_info": {
   "codemirror_mode": {
    "name": "ipython",
    "version": 3
   },
   "file_extension": ".py",
   "mimetype": "text/x-python",
   "name": "python",
   "nbconvert_exporter": "python",
   "pygments_lexer": "ipython3",
   "version": "3.8.18"
  }
 },
 "nbformat": 4,
 "nbformat_minor": 5
}
