{
 "cells": [
  {
   "cell_type": "markdown",
   "id": "38e188a5",
   "metadata": {},
   "source": [
    "# Exercise 00\n",
    "Write a piece of code that allocates a list of 20 integers and initializes each element by its index multiplied by 5. Print the result."
   ]
  },
  {
   "cell_type": "code",
   "execution_count": 10,
   "id": "cb58fcc7",
   "metadata": {},
   "outputs": [
    {
     "name": "stdout",
     "output_type": "stream",
     "text": [
      "[0, 5, 10, 15, 20, 25, 30, 35, 40, 45, 50, 55, 60, 65, 70, 75, 80, 85, 90, 95]\n"
     ]
    }
   ],
   "source": [
    "y = []\n",
    "\n",
    "for i in range(20):\n",
    "    y.append(i * 5)\n",
    "    \n",
    "print(y)"
   ]
  },
  {
   "cell_type": "markdown",
   "id": "529d91ae",
   "metadata": {},
   "source": [
    "# Exercise 01\n",
    "Define a function that takes an integer as input, prints  all integers that it is divisable by, and returns the largest one."
   ]
  },
  {
   "cell_type": "code",
   "execution_count": 26,
   "id": "30e79132",
   "metadata": {},
   "outputs": [],
   "source": [
    "def the_integer(n):\n",
    "    largest_divisible = 1\n",
    "    \n",
    "    print(f\"Integers that {n} is divisible by:\")\n",
    "    \n",
    "    for i in range(1, n + 1):\n",
    "        if n % i == 0:\n",
    "            print(i)\n",
    "            if i > largest_divisible:\n",
    "                largest_divisible = i\n",
    "            \n",
    "    return largest_divisible"
   ]
  },
  {
   "cell_type": "code",
   "execution_count": 28,
   "id": "70291adb",
   "metadata": {},
   "outputs": [
    {
     "name": "stdout",
     "output_type": "stream",
     "text": [
      "Enter the integer:27\n",
      "Integers that 27 is divisible by:\n",
      "1\n",
      "3\n",
      "9\n",
      "27\n",
      "The largest integer that 27 is divisible by is:27\n"
     ]
    }
   ],
   "source": [
    "input_integer = int(input('Enter the integer:'))\n",
    "result = the_integer(input_integer)\n",
    "print(f\"The largest integer that {input_integer} is divisible by is:{result}\")"
   ]
  },
  {
   "cell_type": "markdown",
   "id": "cfbe30d4",
   "metadata": {},
   "source": [
    "# Exercise 02\n",
    "- create a dictionary with 6 keys and values of your choice\n",
    "- write a function that takes a dictionary and a value as input and returns whether the value occurs as a key in the dictionary\n",
    "- write a function that takes a dictionary as input, and returns the dictionary but the keys are swapped with their values (resolve the issue if a value occurs twice!)"
   ]
  },
  {
   "cell_type": "code",
   "execution_count": 40,
   "id": "2123f1c6",
   "metadata": {},
   "outputs": [
    {
     "name": "stdout",
     "output_type": "stream",
     "text": [
      "fallingwater house\n",
      "villa savoye\n",
      "barcelona pavilian\n",
      "kimbell art museum\n",
      "centre pompidou\n"
     ]
    }
   ],
   "source": [
    "archi_lookup = {\n",
    "    'Frank Lloyd Wright':'fallingwater house',\n",
    "    'Le Corbusier':'villa savoye',\n",
    "    'Mies van der Rohe':'barcelona pavilian',\n",
    "    'Louis Kahn':'kimbell art museum',\n",
    "    'Renzo Piano':'centre pompidou'}\n",
    "\n",
    "for x, y in archi_lookup.items():\n",
    "    print(y)\n"
   ]
  },
  {
   "cell_type": "code",
   "execution_count": 41,
   "id": "d2477f96",
   "metadata": {},
   "outputs": [
    {
     "data": {
      "text/plain": [
       "'fallingwater house'"
      ]
     },
     "execution_count": 41,
     "metadata": {},
     "output_type": "execute_result"
    }
   ],
   "source": [
    "archi_lookup['Frank Lloyd Wright']"
   ]
  },
  {
   "cell_type": "code",
   "execution_count": 43,
   "id": "87f0dc9e",
   "metadata": {},
   "outputs": [
    {
     "data": {
      "text/plain": [
       "'fallingwater house'"
      ]
     },
     "execution_count": 43,
     "metadata": {},
     "output_type": "execute_result"
    }
   ],
   "source": [
    "archi_lookup.pop('Frank Lloyd Wright')"
   ]
  },
  {
   "cell_type": "code",
   "execution_count": null,
   "id": "d45f46a9",
   "metadata": {},
   "outputs": [],
   "source": []
  },
  {
   "cell_type": "code",
   "execution_count": 81,
   "id": "4b457be2",
   "metadata": {},
   "outputs": [
    {
     "name": "stdout",
     "output_type": "stream",
     "text": [
      "Does '3' occur as a key in the dictionary? False\n",
      "Original Dictionary:\n",
      "{'A': '1', 'B': '3', 'C': '5', 'D': '7', 'E': '5', 'F': '9'}\n",
      "Dictionary with Keys and Values Swapped:\n",
      "{'1': 'A', '3': 'B', '5': ['C', 'E'], '7': 'D', '9': 'F'}\n"
     ]
    }
   ],
   "source": [
    "my_dict = {\n",
    "    'A': '1',\n",
    "    'B': '3',\n",
    "    'C': '5',\n",
    "    'D': '7',\n",
    "    'E': '5',\n",
    "    'F': '9'}\n",
    "\n",
    "def value_occurs_as_key(input_dict, value):\n",
    "    return value in input_dict.keys()\n",
    "\n",
    "\n",
    "def swap_keys_and_values(input_dict):\n",
    "    swapped_dict = {}\n",
    "    for key, value in input_dict.items():\n",
    "        if value in swapped_dict:\n",
    "            \n",
    "            if not isinstance(swapped_dict[value], list):\n",
    "                swapped_dict[value] = [swapped_dict[value]]\n",
    "            swapped_dict[value].append(key)\n",
    "        else:\n",
    "            swapped_dict[value] = key\n",
    "    return swapped_dict\n",
    "\n",
    "\n",
    "search_value = '3'\n",
    "print(f\"Does '{search_value}' occur as a key in the dictionary? {value_occurs_as_key(my_dict, search_value)}\")\n",
    "\n",
    "swapped = swap_keys_and_values(my_dict)\n",
    "print(\"Original Dictionary:\")\n",
    "print(my_dict)\n",
    "print(\"Dictionary with Keys and Values Swapped:\")\n",
    "print(swapped)\n"
   ]
  },
  {
   "cell_type": "code",
   "execution_count": null,
   "id": "fb188bdb",
   "metadata": {},
   "outputs": [],
   "source": []
  },
  {
   "cell_type": "markdown",
   "id": "b4b4e426",
   "metadata": {},
   "source": [
    "# Exercise 03\n",
    "Define a function that creates a dictionary of the first n fibonacci numbers as values paired with their indices as keys. "
   ]
  },
  {
   "cell_type": "code",
   "execution_count": 99,
   "id": "d70ebbd5",
   "metadata": {},
   "outputs": [],
   "source": [
    "def generate_fibonacci_dict(n):\n",
    "    fibonacci_dict = {}\n",
    "    a = 0\n",
    "    b = 1\n",
    "    for i in range(n):\n",
    "        fibonacci_dict[i] = a \n",
    "        a, b = b, a + b \n",
    "    return fibonacci_dict"
   ]
  },
  {
   "cell_type": "code",
   "execution_count": 100,
   "id": "09a7e473",
   "metadata": {},
   "outputs": [
    {
     "name": "stdout",
     "output_type": "stream",
     "text": [
      "Enter the number of Fibonacci numbers you want in the dictionary: 10\n",
      "Fibonacci Dictionary:\n",
      "{0: 0, 1: 1, 2: 1, 3: 2, 4: 3, 5: 5, 6: 8, 7: 13, 8: 21, 9: 34}\n"
     ]
    }
   ],
   "source": [
    "n = int(input(\"Enter the number of Fibonacci numbers you want in the dictionary: \"))\n",
    "fib_dict = generate_fibonacci_dict(n)\n",
    "print(\"Fibonacci Dictionary:\")\n",
    "print(fib_dict)"
   ]
  },
  {
   "cell_type": "code",
   "execution_count": null,
   "id": "f354b5a7",
   "metadata": {},
   "outputs": [],
   "source": []
  }
 ],
 "metadata": {
  "kernelspec": {
   "display_name": "Python 3 (ipykernel)",
   "language": "python",
   "name": "python3"
  },
  "language_info": {
   "codemirror_mode": {
    "name": "ipython",
    "version": 3
   },
   "file_extension": ".py",
   "mimetype": "text/x-python",
   "name": "python",
   "nbconvert_exporter": "python",
   "pygments_lexer": "ipython3",
   "version": "3.8.18"
  }
 },
 "nbformat": 4,
 "nbformat_minor": 5
}
