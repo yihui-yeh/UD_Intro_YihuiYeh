{
 "cells": [
  {
   "cell_type": "code",
   "execution_count": 82,
   "id": "0bd67d73",
   "metadata": {},
   "outputs": [
    {
     "name": "stdout",
     "output_type": "stream",
     "text": [
      "pygame 2.5.2 (SDL 2.28.3, Python 3.8.18)\n",
      "Hello from the pygame community. https://www.pygame.org/contribute.html\n",
      "<VideoInfo(hw = 0, wm = 1,video_mem = 0\n",
      "         blit_hw = 0, blit_hw_CC = 0, blit_hw_A = 0,\n",
      "         blit_sw = 0, blit_sw_CC = 0, blit_sw_A = 0,\n",
      "         bitsize  = 32, bytesize = 4,\n",
      "         masks =  (0x00ff0000, 0x0000ff00, 0x000000ff, 0x00000000),\n",
      "         shifts = (16, 8, 0, 0),\n",
      "         losses =  (0, 0, 0, 8),\n",
      "         current_w = 1707, current_h = 1067\n",
      "         pixel_format = SDL_PIXELFORMAT_RGB888)\n",
      ">\n"
     ]
    },
    {
     "name": "stderr",
     "output_type": "stream",
     "text": [
      "Traceback (most recent call last):\n",
      "  File \"Wall_E/wall_eGame.py\", line 114, in <module>\n",
      "    sys.exit()\n",
      "NameError: name 'sys' is not defined\n"
     ]
    }
   ],
   "source": [
    "!python Wall_E/wall_eGame.py"
   ]
  },
  {
   "cell_type": "code",
   "execution_count": null,
   "id": "cbf553bc",
   "metadata": {},
   "outputs": [],
   "source": []
  },
  {
   "cell_type": "code",
   "execution_count": null,
   "id": "9ce15b1b",
   "metadata": {},
   "outputs": [],
   "source": []
  }
 ],
 "metadata": {
  "kernelspec": {
   "display_name": "Python 3 (ipykernel)",
   "language": "python",
   "name": "python3"
  },
  "language_info": {
   "codemirror_mode": {
    "name": "ipython",
    "version": 3
   },
   "file_extension": ".py",
   "mimetype": "text/x-python",
   "name": "python",
   "nbconvert_exporter": "python",
   "pygments_lexer": "ipython3",
   "version": "3.8.18"
  }
 },
 "nbformat": 4,
 "nbformat_minor": 5
}
